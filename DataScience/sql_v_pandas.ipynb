{
  "cells": [
    {
      "cell_type": "markdown",
      "metadata": {
        "id": "BKYYQy0ElDxX"
      },
      "source": [
        "# Dataset"
      ]
    },
    {
      "cell_type": "code",
      "execution_count": 1,
      "metadata": {
        "id": "i6VWDWU4hqaG"
      },
      "outputs": [],
      "source": [
        "import pandas as pd\n",
        "df_list = [\n",
        "  [\"Michael Jackson\", 1087, \"Smooth criminal\", \"QB\"]\n",
        "  , [\"Russell Crowe\", 2000, \"Gladiator\", \"QB\"]\n",
        "  , [\"Brad Pitt\", 1999, \"Fight Club\", \"DT\"]\n",
        "  , [\"Edward Norton\", 1996, \"Primal Fear\", \"QB\"]\n",
        "  , [\"Helena Bonham Carter\", 1005, \"Corpse Bride\", \"WR\"]\n",
        "  , [\"Johnny Depp\", 2003, \"Pirates of the Caribbean\", \"RB\"]\n",
        "  , [\"Keira Knightley\", 2005, \"Prode & Prejudice\", \"TE\"]\n",
        "  , [\"James McAvoy\", 2016, \"Split\", \"WR\"]\n",
        "  , [\"Aaron Taylor-Johnson\", 2022, \"Bullet Train\", \"CB\"]\n",
        "  , [\"Elizabeth Olsen\", 2021, \"Wanda Vision\", \"RB\"]\n",
        "]\n",
        "df_columns = [\"Name\", \"Year\", \"Famous For\", \"Code\"]\n",
        "players = pd.DataFrame(data=df_list, columns=df_columns)"
      ]
    },
    {
      "cell_type": "markdown",
      "metadata": {
        "id": "k1idw9MhlcME"
      },
      "source": [
        "# SELECT"
      ]
    },
    {
      "cell_type": "markdown",
      "metadata": {
        "id": "q1JXiTpCl2YB"
      },
      "source": [
        "## Extract all\n",
        "`SELECT * FROM players`"
      ]
    },
    {
      "cell_type": "code",
      "execution_count": 2,
      "metadata": {
        "colab": {
          "base_uri": "https://localhost:8080/",
          "height": 363
        },
        "id": "KGlX2aiXhwnh",
        "outputId": "7daa6f0b-3d26-4363-ae7e-ef95482396e8"
      },
      "outputs": [
        {
          "data": {
            "text/html": [
              "<div>\n",
              "<style scoped>\n",
              "    .dataframe tbody tr th:only-of-type {\n",
              "        vertical-align: middle;\n",
              "    }\n",
              "\n",
              "    .dataframe tbody tr th {\n",
              "        vertical-align: top;\n",
              "    }\n",
              "\n",
              "    .dataframe thead th {\n",
              "        text-align: right;\n",
              "    }\n",
              "</style>\n",
              "<table border=\"1\" class=\"dataframe\">\n",
              "  <thead>\n",
              "    <tr style=\"text-align: right;\">\n",
              "      <th></th>\n",
              "      <th>Name</th>\n",
              "      <th>Year</th>\n",
              "      <th>Famous For</th>\n",
              "      <th>Code</th>\n",
              "    </tr>\n",
              "  </thead>\n",
              "  <tbody>\n",
              "    <tr>\n",
              "      <th>0</th>\n",
              "      <td>Michael Jackson</td>\n",
              "      <td>1087</td>\n",
              "      <td>Smooth criminal</td>\n",
              "      <td>QB</td>\n",
              "    </tr>\n",
              "    <tr>\n",
              "      <th>1</th>\n",
              "      <td>Russell Crowe</td>\n",
              "      <td>2000</td>\n",
              "      <td>Gladiator</td>\n",
              "      <td>QB</td>\n",
              "    </tr>\n",
              "    <tr>\n",
              "      <th>2</th>\n",
              "      <td>Brad Pitt</td>\n",
              "      <td>1999</td>\n",
              "      <td>Fight Club</td>\n",
              "      <td>DT</td>\n",
              "    </tr>\n",
              "    <tr>\n",
              "      <th>3</th>\n",
              "      <td>Edward Norton</td>\n",
              "      <td>1996</td>\n",
              "      <td>Primal Fear</td>\n",
              "      <td>QB</td>\n",
              "    </tr>\n",
              "    <tr>\n",
              "      <th>4</th>\n",
              "      <td>Helena Bonham Carter</td>\n",
              "      <td>1005</td>\n",
              "      <td>Corpse Bride</td>\n",
              "      <td>WR</td>\n",
              "    </tr>\n",
              "    <tr>\n",
              "      <th>5</th>\n",
              "      <td>Johnny Depp</td>\n",
              "      <td>2003</td>\n",
              "      <td>Pirates of the Caribbean</td>\n",
              "      <td>RB</td>\n",
              "    </tr>\n",
              "    <tr>\n",
              "      <th>6</th>\n",
              "      <td>Keira Knightley</td>\n",
              "      <td>2005</td>\n",
              "      <td>Prode &amp; Prejudice</td>\n",
              "      <td>TE</td>\n",
              "    </tr>\n",
              "    <tr>\n",
              "      <th>7</th>\n",
              "      <td>James McAvoy</td>\n",
              "      <td>2016</td>\n",
              "      <td>Split</td>\n",
              "      <td>WR</td>\n",
              "    </tr>\n",
              "    <tr>\n",
              "      <th>8</th>\n",
              "      <td>Aaron Taylor-Johnson</td>\n",
              "      <td>2022</td>\n",
              "      <td>Bullet Train</td>\n",
              "      <td>CB</td>\n",
              "    </tr>\n",
              "    <tr>\n",
              "      <th>9</th>\n",
              "      <td>Elizabeth Olsen</td>\n",
              "      <td>2021</td>\n",
              "      <td>Wanda Vision</td>\n",
              "      <td>RB</td>\n",
              "    </tr>\n",
              "  </tbody>\n",
              "</table>\n",
              "</div>"
            ],
            "text/plain": [
              "                   Name  Year                Famous For Code\n",
              "0       Michael Jackson  1087           Smooth criminal   QB\n",
              "1         Russell Crowe  2000                 Gladiator   QB\n",
              "2             Brad Pitt  1999                Fight Club   DT\n",
              "3         Edward Norton  1996               Primal Fear   QB\n",
              "4  Helena Bonham Carter  1005              Corpse Bride   WR\n",
              "5           Johnny Depp  2003  Pirates of the Caribbean   RB\n",
              "6       Keira Knightley  2005         Prode & Prejudice   TE\n",
              "7          James McAvoy  2016                     Split   WR\n",
              "8  Aaron Taylor-Johnson  2022              Bullet Train   CB\n",
              "9       Elizabeth Olsen  2021              Wanda Vision   RB"
            ]
          },
          "execution_count": 2,
          "metadata": {},
          "output_type": "execute_result"
        }
      ],
      "source": [
        "players"
      ]
    },
    {
      "cell_type": "markdown",
      "metadata": {
        "id": "ewyN5b6bl0p_"
      },
      "source": [
        "## Projection of some columns\n",
        "`SELECT Name, Age FROM players`"
      ]
    },
    {
      "cell_type": "code",
      "execution_count": 4,
      "metadata": {
        "colab": {
          "base_uri": "https://localhost:8080/",
          "height": 363
        },
        "id": "EhrVIxWTmCON",
        "outputId": "f93bc919-0a91-4bc0-bc7c-55d0a8caecad"
      },
      "outputs": [
        {
          "data": {
            "text/html": [
              "<div>\n",
              "<style scoped>\n",
              "    .dataframe tbody tr th:only-of-type {\n",
              "        vertical-align: middle;\n",
              "    }\n",
              "\n",
              "    .dataframe tbody tr th {\n",
              "        vertical-align: top;\n",
              "    }\n",
              "\n",
              "    .dataframe thead th {\n",
              "        text-align: right;\n",
              "    }\n",
              "</style>\n",
              "<table border=\"1\" class=\"dataframe\">\n",
              "  <thead>\n",
              "    <tr style=\"text-align: right;\">\n",
              "      <th></th>\n",
              "      <th>Name</th>\n",
              "      <th>Year</th>\n",
              "    </tr>\n",
              "  </thead>\n",
              "  <tbody>\n",
              "    <tr>\n",
              "      <th>0</th>\n",
              "      <td>Michael Jackson</td>\n",
              "      <td>1087</td>\n",
              "    </tr>\n",
              "    <tr>\n",
              "      <th>1</th>\n",
              "      <td>Russell Crowe</td>\n",
              "      <td>2000</td>\n",
              "    </tr>\n",
              "    <tr>\n",
              "      <th>2</th>\n",
              "      <td>Brad Pitt</td>\n",
              "      <td>1999</td>\n",
              "    </tr>\n",
              "    <tr>\n",
              "      <th>3</th>\n",
              "      <td>Edward Norton</td>\n",
              "      <td>1996</td>\n",
              "    </tr>\n",
              "    <tr>\n",
              "      <th>4</th>\n",
              "      <td>Helena Bonham Carter</td>\n",
              "      <td>1005</td>\n",
              "    </tr>\n",
              "    <tr>\n",
              "      <th>5</th>\n",
              "      <td>Johnny Depp</td>\n",
              "      <td>2003</td>\n",
              "    </tr>\n",
              "    <tr>\n",
              "      <th>6</th>\n",
              "      <td>Keira Knightley</td>\n",
              "      <td>2005</td>\n",
              "    </tr>\n",
              "    <tr>\n",
              "      <th>7</th>\n",
              "      <td>James McAvoy</td>\n",
              "      <td>2016</td>\n",
              "    </tr>\n",
              "    <tr>\n",
              "      <th>8</th>\n",
              "      <td>Aaron Taylor-Johnson</td>\n",
              "      <td>2022</td>\n",
              "    </tr>\n",
              "    <tr>\n",
              "      <th>9</th>\n",
              "      <td>Elizabeth Olsen</td>\n",
              "      <td>2021</td>\n",
              "    </tr>\n",
              "  </tbody>\n",
              "</table>\n",
              "</div>"
            ],
            "text/plain": [
              "                   Name  Year\n",
              "0       Michael Jackson  1087\n",
              "1         Russell Crowe  2000\n",
              "2             Brad Pitt  1999\n",
              "3         Edward Norton  1996\n",
              "4  Helena Bonham Carter  1005\n",
              "5           Johnny Depp  2003\n",
              "6       Keira Knightley  2005\n",
              "7          James McAvoy  2016\n",
              "8  Aaron Taylor-Johnson  2022\n",
              "9       Elizabeth Olsen  2021"
            ]
          },
          "execution_count": 4,
          "metadata": {},
          "output_type": "execute_result"
        }
      ],
      "source": [
        "players[[\"Name\", \"Year\"]]"
      ]
    },
    {
      "cell_type": "markdown",
      "metadata": {
        "id": "JyqcTS6bmLcI"
      },
      "source": [
        "## Selection of top some rows\n",
        "`SELECT TOP 5 * FROM players`"
      ]
    },
    {
      "cell_type": "code",
      "execution_count": 5,
      "metadata": {
        "colab": {
          "base_uri": "https://localhost:8080/",
          "height": 206
        },
        "id": "jEXr92wHmFRb",
        "outputId": "70c1298e-c562-4a63-b6bd-477e90c3ab65"
      },
      "outputs": [
        {
          "data": {
            "text/html": [
              "<div>\n",
              "<style scoped>\n",
              "    .dataframe tbody tr th:only-of-type {\n",
              "        vertical-align: middle;\n",
              "    }\n",
              "\n",
              "    .dataframe tbody tr th {\n",
              "        vertical-align: top;\n",
              "    }\n",
              "\n",
              "    .dataframe thead th {\n",
              "        text-align: right;\n",
              "    }\n",
              "</style>\n",
              "<table border=\"1\" class=\"dataframe\">\n",
              "  <thead>\n",
              "    <tr style=\"text-align: right;\">\n",
              "      <th></th>\n",
              "      <th>Name</th>\n",
              "      <th>Year</th>\n",
              "      <th>Famous For</th>\n",
              "      <th>Code</th>\n",
              "    </tr>\n",
              "  </thead>\n",
              "  <tbody>\n",
              "    <tr>\n",
              "      <th>0</th>\n",
              "      <td>Michael Jackson</td>\n",
              "      <td>1087</td>\n",
              "      <td>Smooth criminal</td>\n",
              "      <td>QB</td>\n",
              "    </tr>\n",
              "    <tr>\n",
              "      <th>1</th>\n",
              "      <td>Russell Crowe</td>\n",
              "      <td>2000</td>\n",
              "      <td>Gladiator</td>\n",
              "      <td>QB</td>\n",
              "    </tr>\n",
              "    <tr>\n",
              "      <th>2</th>\n",
              "      <td>Brad Pitt</td>\n",
              "      <td>1999</td>\n",
              "      <td>Fight Club</td>\n",
              "      <td>DT</td>\n",
              "    </tr>\n",
              "    <tr>\n",
              "      <th>3</th>\n",
              "      <td>Edward Norton</td>\n",
              "      <td>1996</td>\n",
              "      <td>Primal Fear</td>\n",
              "      <td>QB</td>\n",
              "    </tr>\n",
              "    <tr>\n",
              "      <th>4</th>\n",
              "      <td>Helena Bonham Carter</td>\n",
              "      <td>1005</td>\n",
              "      <td>Corpse Bride</td>\n",
              "      <td>WR</td>\n",
              "    </tr>\n",
              "  </tbody>\n",
              "</table>\n",
              "</div>"
            ],
            "text/plain": [
              "                   Name  Year       Famous For Code\n",
              "0       Michael Jackson  1087  Smooth criminal   QB\n",
              "1         Russell Crowe  2000        Gladiator   QB\n",
              "2             Brad Pitt  1999       Fight Club   DT\n",
              "3         Edward Norton  1996      Primal Fear   QB\n",
              "4  Helena Bonham Carter  1005     Corpse Bride   WR"
            ]
          },
          "execution_count": 5,
          "metadata": {},
          "output_type": "execute_result"
        }
      ],
      "source": [
        "players.head(5)"
      ]
    },
    {
      "cell_type": "markdown",
      "metadata": {
        "id": "Id5HJjkamWqz"
      },
      "source": [
        "## DISTINCT\n",
        "`SELECT DISTINCT Position FROM players`"
      ]
    },
    {
      "cell_type": "code",
      "execution_count": 6,
      "metadata": {
        "colab": {
          "base_uri": "https://localhost:8080/"
        },
        "id": "gT8sVGlAmScu",
        "outputId": "4130513d-4aab-49c7-a1a8-0e0ad9eb016c"
      },
      "outputs": [
        {
          "data": {
            "text/plain": [
              "0    QB\n",
              "2    DT\n",
              "4    WR\n",
              "5    RB\n",
              "6    TE\n",
              "8    CB\n",
              "Name: Code, dtype: object"
            ]
          },
          "execution_count": 6,
          "metadata": {},
          "output_type": "execute_result"
        }
      ],
      "source": [
        "players[\"Code\"][~players[\"Code\"].duplicated()]"
      ]
    },
    {
      "cell_type": "code",
      "execution_count": 7,
      "metadata": {},
      "outputs": [
        {
          "data": {
            "text/plain": [
              "array(['QB', 'DT', 'WR', 'RB', 'TE', 'CB'], dtype=object)"
            ]
          },
          "execution_count": 7,
          "metadata": {},
          "output_type": "execute_result"
        }
      ],
      "source": [
        "players[\"Code\"].unique()"
      ]
    },
    {
      "cell_type": "markdown",
      "metadata": {
        "id": "oOJaOn_Rmk1a"
      },
      "source": [
        "# WHERE"
      ]
    },
    {
      "cell_type": "markdown",
      "metadata": {
        "id": "t8eTHow-mq0B"
      },
      "source": [
        "## Selection of specific rows with condition\n",
        "`SELECT * FROM players WHERE Position = 'QB'`"
      ]
    },
    {
      "cell_type": "code",
      "execution_count": 8,
      "metadata": {
        "colab": {
          "base_uri": "https://localhost:8080/",
          "height": 143
        },
        "id": "JBiS68hWmiaz",
        "outputId": "376a8949-91d8-4cd1-985b-5b817d65e7e8"
      },
      "outputs": [
        {
          "data": {
            "text/html": [
              "<div>\n",
              "<style scoped>\n",
              "    .dataframe tbody tr th:only-of-type {\n",
              "        vertical-align: middle;\n",
              "    }\n",
              "\n",
              "    .dataframe tbody tr th {\n",
              "        vertical-align: top;\n",
              "    }\n",
              "\n",
              "    .dataframe thead th {\n",
              "        text-align: right;\n",
              "    }\n",
              "</style>\n",
              "<table border=\"1\" class=\"dataframe\">\n",
              "  <thead>\n",
              "    <tr style=\"text-align: right;\">\n",
              "      <th></th>\n",
              "      <th>Name</th>\n",
              "      <th>Year</th>\n",
              "      <th>Famous For</th>\n",
              "      <th>Code</th>\n",
              "    </tr>\n",
              "  </thead>\n",
              "  <tbody>\n",
              "    <tr>\n",
              "      <th>0</th>\n",
              "      <td>Michael Jackson</td>\n",
              "      <td>1087</td>\n",
              "      <td>Smooth criminal</td>\n",
              "      <td>QB</td>\n",
              "    </tr>\n",
              "    <tr>\n",
              "      <th>1</th>\n",
              "      <td>Russell Crowe</td>\n",
              "      <td>2000</td>\n",
              "      <td>Gladiator</td>\n",
              "      <td>QB</td>\n",
              "    </tr>\n",
              "    <tr>\n",
              "      <th>3</th>\n",
              "      <td>Edward Norton</td>\n",
              "      <td>1996</td>\n",
              "      <td>Primal Fear</td>\n",
              "      <td>QB</td>\n",
              "    </tr>\n",
              "  </tbody>\n",
              "</table>\n",
              "</div>"
            ],
            "text/plain": [
              "              Name  Year       Famous For Code\n",
              "0  Michael Jackson  1087  Smooth criminal   QB\n",
              "1    Russell Crowe  2000        Gladiator   QB\n",
              "3    Edward Norton  1996      Primal Fear   QB"
            ]
          },
          "execution_count": 8,
          "metadata": {},
          "output_type": "execute_result"
        }
      ],
      "source": [
        "players[players.Code == \"QB\"]"
      ]
    },
    {
      "cell_type": "code",
      "execution_count": 9,
      "metadata": {
        "colab": {
          "base_uri": "https://localhost:8080/",
          "height": 143
        },
        "id": "vHgV5tnKmvlk",
        "outputId": "902fea0c-dfe1-40e4-d28f-f96f7aad8c5a"
      },
      "outputs": [
        {
          "data": {
            "text/html": [
              "<div>\n",
              "<style scoped>\n",
              "    .dataframe tbody tr th:only-of-type {\n",
              "        vertical-align: middle;\n",
              "    }\n",
              "\n",
              "    .dataframe tbody tr th {\n",
              "        vertical-align: top;\n",
              "    }\n",
              "\n",
              "    .dataframe thead th {\n",
              "        text-align: right;\n",
              "    }\n",
              "</style>\n",
              "<table border=\"1\" class=\"dataframe\">\n",
              "  <thead>\n",
              "    <tr style=\"text-align: right;\">\n",
              "      <th></th>\n",
              "      <th>Name</th>\n",
              "      <th>Year</th>\n",
              "      <th>Famous For</th>\n",
              "      <th>Code</th>\n",
              "    </tr>\n",
              "  </thead>\n",
              "  <tbody>\n",
              "    <tr>\n",
              "      <th>0</th>\n",
              "      <td>Michael Jackson</td>\n",
              "      <td>1087</td>\n",
              "      <td>Smooth criminal</td>\n",
              "      <td>QB</td>\n",
              "    </tr>\n",
              "    <tr>\n",
              "      <th>1</th>\n",
              "      <td>Russell Crowe</td>\n",
              "      <td>2000</td>\n",
              "      <td>Gladiator</td>\n",
              "      <td>QB</td>\n",
              "    </tr>\n",
              "    <tr>\n",
              "      <th>3</th>\n",
              "      <td>Edward Norton</td>\n",
              "      <td>1996</td>\n",
              "      <td>Primal Fear</td>\n",
              "      <td>QB</td>\n",
              "    </tr>\n",
              "  </tbody>\n",
              "</table>\n",
              "</div>"
            ],
            "text/plain": [
              "              Name  Year       Famous For Code\n",
              "0  Michael Jackson  1087  Smooth criminal   QB\n",
              "1    Russell Crowe  2000        Gladiator   QB\n",
              "3    Edward Norton  1996      Primal Fear   QB"
            ]
          },
          "execution_count": 9,
          "metadata": {},
          "output_type": "execute_result"
        }
      ],
      "source": [
        "players[players[\"Code\"] == \"QB\"]"
      ]
    },
    {
      "cell_type": "markdown",
      "metadata": {
        "id": "pkT7DT1lm_cD"
      },
      "source": [
        "## Selection of specific rows & projection of some columns\n",
        "`SELECT Name, Age FROM players WHERE Position = 'QB'`\n",
        "\n"
      ]
    },
    {
      "cell_type": "code",
      "execution_count": 10,
      "metadata": {
        "colab": {
          "base_uri": "https://localhost:8080/",
          "height": 143
        },
        "id": "Fc4wrflHmx6D",
        "outputId": "931bc262-8d00-41de-8540-e80628f42d97"
      },
      "outputs": [
        {
          "data": {
            "text/html": [
              "<div>\n",
              "<style scoped>\n",
              "    .dataframe tbody tr th:only-of-type {\n",
              "        vertical-align: middle;\n",
              "    }\n",
              "\n",
              "    .dataframe tbody tr th {\n",
              "        vertical-align: top;\n",
              "    }\n",
              "\n",
              "    .dataframe thead th {\n",
              "        text-align: right;\n",
              "    }\n",
              "</style>\n",
              "<table border=\"1\" class=\"dataframe\">\n",
              "  <thead>\n",
              "    <tr style=\"text-align: right;\">\n",
              "      <th></th>\n",
              "      <th>Name</th>\n",
              "      <th>Year</th>\n",
              "    </tr>\n",
              "  </thead>\n",
              "  <tbody>\n",
              "    <tr>\n",
              "      <th>0</th>\n",
              "      <td>Michael Jackson</td>\n",
              "      <td>1087</td>\n",
              "    </tr>\n",
              "    <tr>\n",
              "      <th>1</th>\n",
              "      <td>Russell Crowe</td>\n",
              "      <td>2000</td>\n",
              "    </tr>\n",
              "    <tr>\n",
              "      <th>3</th>\n",
              "      <td>Edward Norton</td>\n",
              "      <td>1996</td>\n",
              "    </tr>\n",
              "  </tbody>\n",
              "</table>\n",
              "</div>"
            ],
            "text/plain": [
              "              Name  Year\n",
              "0  Michael Jackson  1087\n",
              "1    Russell Crowe  2000\n",
              "3    Edward Norton  1996"
            ]
          },
          "execution_count": 10,
          "metadata": {},
          "output_type": "execute_result"
        }
      ],
      "source": [
        "players[[\"Name\", \"Year\"]][players.Code == \"QB\"]"
      ]
    },
    {
      "cell_type": "code",
      "execution_count": 11,
      "metadata": {},
      "outputs": [
        {
          "data": {
            "text/html": [
              "<div>\n",
              "<style scoped>\n",
              "    .dataframe tbody tr th:only-of-type {\n",
              "        vertical-align: middle;\n",
              "    }\n",
              "\n",
              "    .dataframe tbody tr th {\n",
              "        vertical-align: top;\n",
              "    }\n",
              "\n",
              "    .dataframe thead th {\n",
              "        text-align: right;\n",
              "    }\n",
              "</style>\n",
              "<table border=\"1\" class=\"dataframe\">\n",
              "  <thead>\n",
              "    <tr style=\"text-align: right;\">\n",
              "      <th></th>\n",
              "      <th>Name</th>\n",
              "      <th>Year</th>\n",
              "    </tr>\n",
              "  </thead>\n",
              "  <tbody>\n",
              "    <tr>\n",
              "      <th>0</th>\n",
              "      <td>Michael Jackson</td>\n",
              "      <td>1087</td>\n",
              "    </tr>\n",
              "    <tr>\n",
              "      <th>1</th>\n",
              "      <td>Russell Crowe</td>\n",
              "      <td>2000</td>\n",
              "    </tr>\n",
              "    <tr>\n",
              "      <th>3</th>\n",
              "      <td>Edward Norton</td>\n",
              "      <td>1996</td>\n",
              "    </tr>\n",
              "  </tbody>\n",
              "</table>\n",
              "</div>"
            ],
            "text/plain": [
              "              Name  Year\n",
              "0  Michael Jackson  1087\n",
              "1    Russell Crowe  2000\n",
              "3    Edward Norton  1996"
            ]
          },
          "execution_count": 11,
          "metadata": {},
          "output_type": "execute_result"
        }
      ],
      "source": [
        "players[players[\"Code\"] == \"QB\"][[\"Name\", \"Year\"]] "
      ]
    },
    {
      "cell_type": "markdown",
      "metadata": {
        "id": "mkBqtvgRnQcu"
      },
      "source": [
        "## NOT\n",
        "`SELECT * FROM players WHERE NOT Position =='QB'`"
      ]
    },
    {
      "cell_type": "code",
      "execution_count": 12,
      "metadata": {
        "colab": {
          "base_uri": "https://localhost:8080/",
          "height": 269
        },
        "id": "8hMDYRBlnLYB",
        "outputId": "6769d632-9ae8-4db8-a16f-5aee8b95f879"
      },
      "outputs": [
        {
          "data": {
            "text/html": [
              "<div>\n",
              "<style scoped>\n",
              "    .dataframe tbody tr th:only-of-type {\n",
              "        vertical-align: middle;\n",
              "    }\n",
              "\n",
              "    .dataframe tbody tr th {\n",
              "        vertical-align: top;\n",
              "    }\n",
              "\n",
              "    .dataframe thead th {\n",
              "        text-align: right;\n",
              "    }\n",
              "</style>\n",
              "<table border=\"1\" class=\"dataframe\">\n",
              "  <thead>\n",
              "    <tr style=\"text-align: right;\">\n",
              "      <th></th>\n",
              "      <th>Name</th>\n",
              "      <th>Year</th>\n",
              "      <th>Famous For</th>\n",
              "      <th>Code</th>\n",
              "    </tr>\n",
              "  </thead>\n",
              "  <tbody>\n",
              "    <tr>\n",
              "      <th>2</th>\n",
              "      <td>Brad Pitt</td>\n",
              "      <td>1999</td>\n",
              "      <td>Fight Club</td>\n",
              "      <td>DT</td>\n",
              "    </tr>\n",
              "    <tr>\n",
              "      <th>4</th>\n",
              "      <td>Helena Bonham Carter</td>\n",
              "      <td>1005</td>\n",
              "      <td>Corpse Bride</td>\n",
              "      <td>WR</td>\n",
              "    </tr>\n",
              "    <tr>\n",
              "      <th>5</th>\n",
              "      <td>Johnny Depp</td>\n",
              "      <td>2003</td>\n",
              "      <td>Pirates of the Caribbean</td>\n",
              "      <td>RB</td>\n",
              "    </tr>\n",
              "    <tr>\n",
              "      <th>6</th>\n",
              "      <td>Keira Knightley</td>\n",
              "      <td>2005</td>\n",
              "      <td>Prode &amp; Prejudice</td>\n",
              "      <td>TE</td>\n",
              "    </tr>\n",
              "    <tr>\n",
              "      <th>7</th>\n",
              "      <td>James McAvoy</td>\n",
              "      <td>2016</td>\n",
              "      <td>Split</td>\n",
              "      <td>WR</td>\n",
              "    </tr>\n",
              "    <tr>\n",
              "      <th>8</th>\n",
              "      <td>Aaron Taylor-Johnson</td>\n",
              "      <td>2022</td>\n",
              "      <td>Bullet Train</td>\n",
              "      <td>CB</td>\n",
              "    </tr>\n",
              "    <tr>\n",
              "      <th>9</th>\n",
              "      <td>Elizabeth Olsen</td>\n",
              "      <td>2021</td>\n",
              "      <td>Wanda Vision</td>\n",
              "      <td>RB</td>\n",
              "    </tr>\n",
              "  </tbody>\n",
              "</table>\n",
              "</div>"
            ],
            "text/plain": [
              "                   Name  Year                Famous For Code\n",
              "2             Brad Pitt  1999                Fight Club   DT\n",
              "4  Helena Bonham Carter  1005              Corpse Bride   WR\n",
              "5           Johnny Depp  2003  Pirates of the Caribbean   RB\n",
              "6       Keira Knightley  2005         Prode & Prejudice   TE\n",
              "7          James McAvoy  2016                     Split   WR\n",
              "8  Aaron Taylor-Johnson  2022              Bullet Train   CB\n",
              "9       Elizabeth Olsen  2021              Wanda Vision   RB"
            ]
          },
          "execution_count": 12,
          "metadata": {},
          "output_type": "execute_result"
        }
      ],
      "source": [
        "players[~(players.Code == \"QB\")]"
      ]
    },
    {
      "cell_type": "code",
      "execution_count": 13,
      "metadata": {
        "colab": {
          "base_uri": "https://localhost:8080/",
          "height": 269
        },
        "id": "dBmUSn62nW6A",
        "outputId": "a8f1f5ae-306f-4249-8d01-74032197dc16"
      },
      "outputs": [
        {
          "data": {
            "text/html": [
              "<div>\n",
              "<style scoped>\n",
              "    .dataframe tbody tr th:only-of-type {\n",
              "        vertical-align: middle;\n",
              "    }\n",
              "\n",
              "    .dataframe tbody tr th {\n",
              "        vertical-align: top;\n",
              "    }\n",
              "\n",
              "    .dataframe thead th {\n",
              "        text-align: right;\n",
              "    }\n",
              "</style>\n",
              "<table border=\"1\" class=\"dataframe\">\n",
              "  <thead>\n",
              "    <tr style=\"text-align: right;\">\n",
              "      <th></th>\n",
              "      <th>Name</th>\n",
              "      <th>Year</th>\n",
              "      <th>Famous For</th>\n",
              "      <th>Code</th>\n",
              "    </tr>\n",
              "  </thead>\n",
              "  <tbody>\n",
              "    <tr>\n",
              "      <th>2</th>\n",
              "      <td>Brad Pitt</td>\n",
              "      <td>1999</td>\n",
              "      <td>Fight Club</td>\n",
              "      <td>DT</td>\n",
              "    </tr>\n",
              "    <tr>\n",
              "      <th>4</th>\n",
              "      <td>Helena Bonham Carter</td>\n",
              "      <td>1005</td>\n",
              "      <td>Corpse Bride</td>\n",
              "      <td>WR</td>\n",
              "    </tr>\n",
              "    <tr>\n",
              "      <th>5</th>\n",
              "      <td>Johnny Depp</td>\n",
              "      <td>2003</td>\n",
              "      <td>Pirates of the Caribbean</td>\n",
              "      <td>RB</td>\n",
              "    </tr>\n",
              "    <tr>\n",
              "      <th>6</th>\n",
              "      <td>Keira Knightley</td>\n",
              "      <td>2005</td>\n",
              "      <td>Prode &amp; Prejudice</td>\n",
              "      <td>TE</td>\n",
              "    </tr>\n",
              "    <tr>\n",
              "      <th>7</th>\n",
              "      <td>James McAvoy</td>\n",
              "      <td>2016</td>\n",
              "      <td>Split</td>\n",
              "      <td>WR</td>\n",
              "    </tr>\n",
              "    <tr>\n",
              "      <th>8</th>\n",
              "      <td>Aaron Taylor-Johnson</td>\n",
              "      <td>2022</td>\n",
              "      <td>Bullet Train</td>\n",
              "      <td>CB</td>\n",
              "    </tr>\n",
              "    <tr>\n",
              "      <th>9</th>\n",
              "      <td>Elizabeth Olsen</td>\n",
              "      <td>2021</td>\n",
              "      <td>Wanda Vision</td>\n",
              "      <td>RB</td>\n",
              "    </tr>\n",
              "  </tbody>\n",
              "</table>\n",
              "</div>"
            ],
            "text/plain": [
              "                   Name  Year                Famous For Code\n",
              "2             Brad Pitt  1999                Fight Club   DT\n",
              "4  Helena Bonham Carter  1005              Corpse Bride   WR\n",
              "5           Johnny Depp  2003  Pirates of the Caribbean   RB\n",
              "6       Keira Knightley  2005         Prode & Prejudice   TE\n",
              "7          James McAvoy  2016                     Split   WR\n",
              "8  Aaron Taylor-Johnson  2022              Bullet Train   CB\n",
              "9       Elizabeth Olsen  2021              Wanda Vision   RB"
            ]
          },
          "execution_count": 13,
          "metadata": {},
          "output_type": "execute_result"
        }
      ],
      "source": [
        "players[~(players[\"Code\"] == \"QB\")]"
      ]
    },
    {
      "cell_type": "markdown",
      "metadata": {
        "id": "tA5dnXzRnfkT"
      },
      "source": [
        "## AND\n",
        "`SELECT Name, Age FROM players WHERE Position = 'QB' AND Age < 30`"
      ]
    },
    {
      "cell_type": "code",
      "execution_count": 15,
      "metadata": {
        "colab": {
          "base_uri": "https://localhost:8080/",
          "height": 112
        },
        "id": "6ul2vAyMnY6a",
        "outputId": "76071ff1-5d23-4acc-c490-e428aca8d700"
      },
      "outputs": [
        {
          "data": {
            "text/html": [
              "<div>\n",
              "<style scoped>\n",
              "    .dataframe tbody tr th:only-of-type {\n",
              "        vertical-align: middle;\n",
              "    }\n",
              "\n",
              "    .dataframe tbody tr th {\n",
              "        vertical-align: top;\n",
              "    }\n",
              "\n",
              "    .dataframe thead th {\n",
              "        text-align: right;\n",
              "    }\n",
              "</style>\n",
              "<table border=\"1\" class=\"dataframe\">\n",
              "  <thead>\n",
              "    <tr style=\"text-align: right;\">\n",
              "      <th></th>\n",
              "      <th>Name</th>\n",
              "      <th>Year</th>\n",
              "    </tr>\n",
              "  </thead>\n",
              "  <tbody>\n",
              "    <tr>\n",
              "      <th>0</th>\n",
              "      <td>Michael Jackson</td>\n",
              "      <td>1087</td>\n",
              "    </tr>\n",
              "    <tr>\n",
              "      <th>3</th>\n",
              "      <td>Edward Norton</td>\n",
              "      <td>1996</td>\n",
              "    </tr>\n",
              "  </tbody>\n",
              "</table>\n",
              "</div>"
            ],
            "text/plain": [
              "              Name  Year\n",
              "0  Michael Jackson  1087\n",
              "3    Edward Norton  1996"
            ]
          },
          "execution_count": 15,
          "metadata": {},
          "output_type": "execute_result"
        }
      ],
      "source": [
        "players[[\"Name\", \"Year\"]][(players.Code == \"QB\") & (players.Year < 1999)]"
      ]
    },
    {
      "cell_type": "markdown",
      "metadata": {
        "id": "7WH40JVYn3OB"
      },
      "source": [
        "## OR\n",
        "`SELECT Name, Age FROM players WHERE Position = 'QB' OR Position = 'RB'`"
      ]
    },
    {
      "cell_type": "code",
      "execution_count": 16,
      "metadata": {
        "colab": {
          "base_uri": "https://localhost:8080/",
          "height": 206
        },
        "id": "mA40cdP4nyVz",
        "outputId": "f1793379-ee68-4ae5-f3ba-70e8ba9d4d42"
      },
      "outputs": [
        {
          "data": {
            "text/html": [
              "<div>\n",
              "<style scoped>\n",
              "    .dataframe tbody tr th:only-of-type {\n",
              "        vertical-align: middle;\n",
              "    }\n",
              "\n",
              "    .dataframe tbody tr th {\n",
              "        vertical-align: top;\n",
              "    }\n",
              "\n",
              "    .dataframe thead th {\n",
              "        text-align: right;\n",
              "    }\n",
              "</style>\n",
              "<table border=\"1\" class=\"dataframe\">\n",
              "  <thead>\n",
              "    <tr style=\"text-align: right;\">\n",
              "      <th></th>\n",
              "      <th>Name</th>\n",
              "      <th>Year</th>\n",
              "    </tr>\n",
              "  </thead>\n",
              "  <tbody>\n",
              "    <tr>\n",
              "      <th>0</th>\n",
              "      <td>Michael Jackson</td>\n",
              "      <td>1087</td>\n",
              "    </tr>\n",
              "    <tr>\n",
              "      <th>1</th>\n",
              "      <td>Russell Crowe</td>\n",
              "      <td>2000</td>\n",
              "    </tr>\n",
              "    <tr>\n",
              "      <th>3</th>\n",
              "      <td>Edward Norton</td>\n",
              "      <td>1996</td>\n",
              "    </tr>\n",
              "    <tr>\n",
              "      <th>5</th>\n",
              "      <td>Johnny Depp</td>\n",
              "      <td>2003</td>\n",
              "    </tr>\n",
              "    <tr>\n",
              "      <th>9</th>\n",
              "      <td>Elizabeth Olsen</td>\n",
              "      <td>2021</td>\n",
              "    </tr>\n",
              "  </tbody>\n",
              "</table>\n",
              "</div>"
            ],
            "text/plain": [
              "              Name  Year\n",
              "0  Michael Jackson  1087\n",
              "1    Russell Crowe  2000\n",
              "3    Edward Norton  1996\n",
              "5      Johnny Depp  2003\n",
              "9  Elizabeth Olsen  2021"
            ]
          },
          "execution_count": 16,
          "metadata": {},
          "output_type": "execute_result"
        }
      ],
      "source": [
        "players[[\"Name\", \"Year\"]][(players.Code == \"QB\") |(players.Code == \"RB\")]"
      ]
    },
    {
      "cell_type": "markdown",
      "metadata": {
        "id": "Mr39nm8aoeUk"
      },
      "source": [
        "## AND / OR\n",
        "`SELECT Name, Age FROM players WHERE (Position = 'QB' AND Age < 25) OR (Position = 'RB' AND Age < 25)`"
      ]
    },
    {
      "cell_type": "code",
      "execution_count": 17,
      "metadata": {
        "colab": {
          "base_uri": "https://localhost:8080/",
          "height": 143
        },
        "id": "ag0SkYwsoVaO",
        "outputId": "eccd483d-6d08-4d3a-ff11-1a4c4b5a266b"
      },
      "outputs": [
        {
          "data": {
            "text/html": [
              "<div>\n",
              "<style scoped>\n",
              "    .dataframe tbody tr th:only-of-type {\n",
              "        vertical-align: middle;\n",
              "    }\n",
              "\n",
              "    .dataframe tbody tr th {\n",
              "        vertical-align: top;\n",
              "    }\n",
              "\n",
              "    .dataframe thead th {\n",
              "        text-align: right;\n",
              "    }\n",
              "</style>\n",
              "<table border=\"1\" class=\"dataframe\">\n",
              "  <thead>\n",
              "    <tr style=\"text-align: right;\">\n",
              "      <th></th>\n",
              "      <th>Name</th>\n",
              "      <th>Year</th>\n",
              "    </tr>\n",
              "  </thead>\n",
              "  <tbody>\n",
              "    <tr>\n",
              "      <th>0</th>\n",
              "      <td>Michael Jackson</td>\n",
              "      <td>1087</td>\n",
              "    </tr>\n",
              "    <tr>\n",
              "      <th>3</th>\n",
              "      <td>Edward Norton</td>\n",
              "      <td>1996</td>\n",
              "    </tr>\n",
              "  </tbody>\n",
              "</table>\n",
              "</div>"
            ],
            "text/plain": [
              "              Name  Year\n",
              "0  Michael Jackson  1087\n",
              "3    Edward Norton  1996"
            ]
          },
          "execution_count": 17,
          "metadata": {},
          "output_type": "execute_result"
        }
      ],
      "source": [
        "players[[\"Name\", \"Year\"]][\n",
        "(\n",
        "    (players.Code == \"QB\") & (players.Year < 2000)\n",
        ") | (\n",
        "    (players.Code == \"RB\") & (players.Year < 2000)\n",
        ")]"
      ]
    },
    {
      "cell_type": "markdown",
      "metadata": {
        "id": "mB1ZGpgSoDmK"
      },
      "source": [
        "### TIPS\n",
        "You have to put operator by brackets.\n",
        "\n",
        "Otherwise, you will get an `TypeError: Cannot perform ‘rand_’ with a dtyped [int64] array and scalar of type [bool]`\n",
        "\n",
        "`players[[\"Name\", \"Age\"]][players.Position == \"QB\" & players.Age < 30]`"
      ]
    },
    {
      "cell_type": "markdown",
      "metadata": {
        "id": "O9F-1cmloRk8"
      },
      "source": [
        "You also have to use ‘&’ and ‘|’ instead of ‘and’ and ‘or’.\n",
        "\n",
        "Otherwise, you will get an `ValueError: The truth value of a Series is ambiguous. Use a.empty, a.bool(), a.item(), a.any() or a.all().`\n",
        "\n",
        "`players[[\"Name\", \"Age\"]][(players.Position == \"QB\") and (players.Age < 30)]`"
      ]
    },
    {
      "cell_type": "markdown",
      "metadata": {
        "id": "U-3mPG8BowbK"
      },
      "source": [
        "## IN\n",
        "`SELECT * FROM players WHERE Position IN ('QB', 'RB')`"
      ]
    },
    {
      "cell_type": "code",
      "execution_count": 18,
      "metadata": {
        "colab": {
          "base_uri": "https://localhost:8080/",
          "height": 206
        },
        "id": "vcoFe2pgon8N",
        "outputId": "d30f911a-aee6-40a1-c900-156f2e7e2b42"
      },
      "outputs": [
        {
          "data": {
            "text/html": [
              "<div>\n",
              "<style scoped>\n",
              "    .dataframe tbody tr th:only-of-type {\n",
              "        vertical-align: middle;\n",
              "    }\n",
              "\n",
              "    .dataframe tbody tr th {\n",
              "        vertical-align: top;\n",
              "    }\n",
              "\n",
              "    .dataframe thead th {\n",
              "        text-align: right;\n",
              "    }\n",
              "</style>\n",
              "<table border=\"1\" class=\"dataframe\">\n",
              "  <thead>\n",
              "    <tr style=\"text-align: right;\">\n",
              "      <th></th>\n",
              "      <th>Name</th>\n",
              "      <th>Year</th>\n",
              "      <th>Famous For</th>\n",
              "      <th>Code</th>\n",
              "    </tr>\n",
              "  </thead>\n",
              "  <tbody>\n",
              "    <tr>\n",
              "      <th>0</th>\n",
              "      <td>Michael Jackson</td>\n",
              "      <td>1087</td>\n",
              "      <td>Smooth criminal</td>\n",
              "      <td>QB</td>\n",
              "    </tr>\n",
              "    <tr>\n",
              "      <th>1</th>\n",
              "      <td>Russell Crowe</td>\n",
              "      <td>2000</td>\n",
              "      <td>Gladiator</td>\n",
              "      <td>QB</td>\n",
              "    </tr>\n",
              "    <tr>\n",
              "      <th>3</th>\n",
              "      <td>Edward Norton</td>\n",
              "      <td>1996</td>\n",
              "      <td>Primal Fear</td>\n",
              "      <td>QB</td>\n",
              "    </tr>\n",
              "    <tr>\n",
              "      <th>5</th>\n",
              "      <td>Johnny Depp</td>\n",
              "      <td>2003</td>\n",
              "      <td>Pirates of the Caribbean</td>\n",
              "      <td>RB</td>\n",
              "    </tr>\n",
              "    <tr>\n",
              "      <th>9</th>\n",
              "      <td>Elizabeth Olsen</td>\n",
              "      <td>2021</td>\n",
              "      <td>Wanda Vision</td>\n",
              "      <td>RB</td>\n",
              "    </tr>\n",
              "  </tbody>\n",
              "</table>\n",
              "</div>"
            ],
            "text/plain": [
              "              Name  Year                Famous For Code\n",
              "0  Michael Jackson  1087           Smooth criminal   QB\n",
              "1    Russell Crowe  2000                 Gladiator   QB\n",
              "3    Edward Norton  1996               Primal Fear   QB\n",
              "5      Johnny Depp  2003  Pirates of the Caribbean   RB\n",
              "9  Elizabeth Olsen  2021              Wanda Vision   RB"
            ]
          },
          "execution_count": 18,
          "metadata": {},
          "output_type": "execute_result"
        }
      ],
      "source": [
        "players[players.Code.isin([\"QB\", \"RB\"])]"
      ]
    },
    {
      "cell_type": "markdown",
      "metadata": {
        "id": "wbMGtFr4o5uq"
      },
      "source": [
        "## LIKE\n",
        "`SELECT * FROM players WHERE Team LIKE '%ns%'`"
      ]
    },
    {
      "cell_type": "code",
      "execution_count": 20,
      "metadata": {
        "colab": {
          "base_uri": "https://localhost:8080/",
          "height": 112
        },
        "id": "JqfwI082o3t5",
        "outputId": "e2779581-f200-40fc-93f8-afb2fc1b72f2"
      },
      "outputs": [
        {
          "data": {
            "text/html": [
              "<div>\n",
              "<style scoped>\n",
              "    .dataframe tbody tr th:only-of-type {\n",
              "        vertical-align: middle;\n",
              "    }\n",
              "\n",
              "    .dataframe tbody tr th {\n",
              "        vertical-align: top;\n",
              "    }\n",
              "\n",
              "    .dataframe thead th {\n",
              "        text-align: right;\n",
              "    }\n",
              "</style>\n",
              "<table border=\"1\" class=\"dataframe\">\n",
              "  <thead>\n",
              "    <tr style=\"text-align: right;\">\n",
              "      <th></th>\n",
              "      <th>Name</th>\n",
              "      <th>Year</th>\n",
              "      <th>Famous For</th>\n",
              "      <th>Code</th>\n",
              "    </tr>\n",
              "  </thead>\n",
              "  <tbody>\n",
              "    <tr>\n",
              "      <th>2</th>\n",
              "      <td>Brad Pitt</td>\n",
              "      <td>1999</td>\n",
              "      <td>Fight Club</td>\n",
              "      <td>DT</td>\n",
              "    </tr>\n",
              "  </tbody>\n",
              "</table>\n",
              "</div>"
            ],
            "text/plain": [
              "        Name  Year  Famous For Code\n",
              "2  Brad Pitt  1999  Fight Club   DT"
            ]
          },
          "execution_count": 20,
          "metadata": {},
          "output_type": "execute_result"
        }
      ],
      "source": [
        "players[players['Famous For'].str.contains(\"gh\")]"
      ]
    },
    {
      "cell_type": "markdown",
      "metadata": {
        "id": "HjgfzNePpFXi"
      },
      "source": [
        "# ORDER BY"
      ]
    },
    {
      "cell_type": "markdown",
      "metadata": {
        "id": "yeUdQT2UpPk7"
      },
      "source": [
        "## Order by 1 column\n",
        "`SELECT * FROM players ORDER BY Name`"
      ]
    },
    {
      "cell_type": "code",
      "execution_count": 21,
      "metadata": {
        "colab": {
          "base_uri": "https://localhost:8080/",
          "height": 363
        },
        "id": "4_7zAE-Oo-ts",
        "outputId": "388838d5-8b2f-479c-c026-7ee60510cd83"
      },
      "outputs": [
        {
          "data": {
            "text/html": [
              "<div>\n",
              "<style scoped>\n",
              "    .dataframe tbody tr th:only-of-type {\n",
              "        vertical-align: middle;\n",
              "    }\n",
              "\n",
              "    .dataframe tbody tr th {\n",
              "        vertical-align: top;\n",
              "    }\n",
              "\n",
              "    .dataframe thead th {\n",
              "        text-align: right;\n",
              "    }\n",
              "</style>\n",
              "<table border=\"1\" class=\"dataframe\">\n",
              "  <thead>\n",
              "    <tr style=\"text-align: right;\">\n",
              "      <th></th>\n",
              "      <th>Name</th>\n",
              "      <th>Year</th>\n",
              "      <th>Famous For</th>\n",
              "      <th>Code</th>\n",
              "    </tr>\n",
              "  </thead>\n",
              "  <tbody>\n",
              "    <tr>\n",
              "      <th>8</th>\n",
              "      <td>Aaron Taylor-Johnson</td>\n",
              "      <td>2022</td>\n",
              "      <td>Bullet Train</td>\n",
              "      <td>CB</td>\n",
              "    </tr>\n",
              "    <tr>\n",
              "      <th>2</th>\n",
              "      <td>Brad Pitt</td>\n",
              "      <td>1999</td>\n",
              "      <td>Fight Club</td>\n",
              "      <td>DT</td>\n",
              "    </tr>\n",
              "    <tr>\n",
              "      <th>3</th>\n",
              "      <td>Edward Norton</td>\n",
              "      <td>1996</td>\n",
              "      <td>Primal Fear</td>\n",
              "      <td>QB</td>\n",
              "    </tr>\n",
              "    <tr>\n",
              "      <th>9</th>\n",
              "      <td>Elizabeth Olsen</td>\n",
              "      <td>2021</td>\n",
              "      <td>Wanda Vision</td>\n",
              "      <td>RB</td>\n",
              "    </tr>\n",
              "    <tr>\n",
              "      <th>4</th>\n",
              "      <td>Helena Bonham Carter</td>\n",
              "      <td>1005</td>\n",
              "      <td>Corpse Bride</td>\n",
              "      <td>WR</td>\n",
              "    </tr>\n",
              "    <tr>\n",
              "      <th>7</th>\n",
              "      <td>James McAvoy</td>\n",
              "      <td>2016</td>\n",
              "      <td>Split</td>\n",
              "      <td>WR</td>\n",
              "    </tr>\n",
              "    <tr>\n",
              "      <th>5</th>\n",
              "      <td>Johnny Depp</td>\n",
              "      <td>2003</td>\n",
              "      <td>Pirates of the Caribbean</td>\n",
              "      <td>RB</td>\n",
              "    </tr>\n",
              "    <tr>\n",
              "      <th>6</th>\n",
              "      <td>Keira Knightley</td>\n",
              "      <td>2005</td>\n",
              "      <td>Prode &amp; Prejudice</td>\n",
              "      <td>TE</td>\n",
              "    </tr>\n",
              "    <tr>\n",
              "      <th>0</th>\n",
              "      <td>Michael Jackson</td>\n",
              "      <td>1087</td>\n",
              "      <td>Smooth criminal</td>\n",
              "      <td>QB</td>\n",
              "    </tr>\n",
              "    <tr>\n",
              "      <th>1</th>\n",
              "      <td>Russell Crowe</td>\n",
              "      <td>2000</td>\n",
              "      <td>Gladiator</td>\n",
              "      <td>QB</td>\n",
              "    </tr>\n",
              "  </tbody>\n",
              "</table>\n",
              "</div>"
            ],
            "text/plain": [
              "                   Name  Year                Famous For Code\n",
              "8  Aaron Taylor-Johnson  2022              Bullet Train   CB\n",
              "2             Brad Pitt  1999                Fight Club   DT\n",
              "3         Edward Norton  1996               Primal Fear   QB\n",
              "9       Elizabeth Olsen  2021              Wanda Vision   RB\n",
              "4  Helena Bonham Carter  1005              Corpse Bride   WR\n",
              "7          James McAvoy  2016                     Split   WR\n",
              "5           Johnny Depp  2003  Pirates of the Caribbean   RB\n",
              "6       Keira Knightley  2005         Prode & Prejudice   TE\n",
              "0       Michael Jackson  1087           Smooth criminal   QB\n",
              "1         Russell Crowe  2000                 Gladiator   QB"
            ]
          },
          "execution_count": 21,
          "metadata": {},
          "output_type": "execute_result"
        }
      ],
      "source": [
        "players.sort_values(\"Name\")"
      ]
    },
    {
      "cell_type": "markdown",
      "metadata": {
        "id": "hI4tJz_cpbYA"
      },
      "source": [
        "## Order by 2+ columns\n",
        "`SELECT * FROM players ORDER BY Age, Name`"
      ]
    },
    {
      "cell_type": "code",
      "execution_count": 22,
      "metadata": {
        "colab": {
          "base_uri": "https://localhost:8080/",
          "height": 363
        },
        "id": "pDo45VrMpYUb",
        "outputId": "8de65c29-6398-4b3a-e6d1-2bc3dba71d75"
      },
      "outputs": [
        {
          "data": {
            "text/html": [
              "<div>\n",
              "<style scoped>\n",
              "    .dataframe tbody tr th:only-of-type {\n",
              "        vertical-align: middle;\n",
              "    }\n",
              "\n",
              "    .dataframe tbody tr th {\n",
              "        vertical-align: top;\n",
              "    }\n",
              "\n",
              "    .dataframe thead th {\n",
              "        text-align: right;\n",
              "    }\n",
              "</style>\n",
              "<table border=\"1\" class=\"dataframe\">\n",
              "  <thead>\n",
              "    <tr style=\"text-align: right;\">\n",
              "      <th></th>\n",
              "      <th>Name</th>\n",
              "      <th>Year</th>\n",
              "      <th>Famous For</th>\n",
              "      <th>Code</th>\n",
              "    </tr>\n",
              "  </thead>\n",
              "  <tbody>\n",
              "    <tr>\n",
              "      <th>4</th>\n",
              "      <td>Helena Bonham Carter</td>\n",
              "      <td>1005</td>\n",
              "      <td>Corpse Bride</td>\n",
              "      <td>WR</td>\n",
              "    </tr>\n",
              "    <tr>\n",
              "      <th>0</th>\n",
              "      <td>Michael Jackson</td>\n",
              "      <td>1087</td>\n",
              "      <td>Smooth criminal</td>\n",
              "      <td>QB</td>\n",
              "    </tr>\n",
              "    <tr>\n",
              "      <th>3</th>\n",
              "      <td>Edward Norton</td>\n",
              "      <td>1996</td>\n",
              "      <td>Primal Fear</td>\n",
              "      <td>QB</td>\n",
              "    </tr>\n",
              "    <tr>\n",
              "      <th>2</th>\n",
              "      <td>Brad Pitt</td>\n",
              "      <td>1999</td>\n",
              "      <td>Fight Club</td>\n",
              "      <td>DT</td>\n",
              "    </tr>\n",
              "    <tr>\n",
              "      <th>1</th>\n",
              "      <td>Russell Crowe</td>\n",
              "      <td>2000</td>\n",
              "      <td>Gladiator</td>\n",
              "      <td>QB</td>\n",
              "    </tr>\n",
              "    <tr>\n",
              "      <th>5</th>\n",
              "      <td>Johnny Depp</td>\n",
              "      <td>2003</td>\n",
              "      <td>Pirates of the Caribbean</td>\n",
              "      <td>RB</td>\n",
              "    </tr>\n",
              "    <tr>\n",
              "      <th>6</th>\n",
              "      <td>Keira Knightley</td>\n",
              "      <td>2005</td>\n",
              "      <td>Prode &amp; Prejudice</td>\n",
              "      <td>TE</td>\n",
              "    </tr>\n",
              "    <tr>\n",
              "      <th>7</th>\n",
              "      <td>James McAvoy</td>\n",
              "      <td>2016</td>\n",
              "      <td>Split</td>\n",
              "      <td>WR</td>\n",
              "    </tr>\n",
              "    <tr>\n",
              "      <th>9</th>\n",
              "      <td>Elizabeth Olsen</td>\n",
              "      <td>2021</td>\n",
              "      <td>Wanda Vision</td>\n",
              "      <td>RB</td>\n",
              "    </tr>\n",
              "    <tr>\n",
              "      <th>8</th>\n",
              "      <td>Aaron Taylor-Johnson</td>\n",
              "      <td>2022</td>\n",
              "      <td>Bullet Train</td>\n",
              "      <td>CB</td>\n",
              "    </tr>\n",
              "  </tbody>\n",
              "</table>\n",
              "</div>"
            ],
            "text/plain": [
              "                   Name  Year                Famous For Code\n",
              "4  Helena Bonham Carter  1005              Corpse Bride   WR\n",
              "0       Michael Jackson  1087           Smooth criminal   QB\n",
              "3         Edward Norton  1996               Primal Fear   QB\n",
              "2             Brad Pitt  1999                Fight Club   DT\n",
              "1         Russell Crowe  2000                 Gladiator   QB\n",
              "5           Johnny Depp  2003  Pirates of the Caribbean   RB\n",
              "6       Keira Knightley  2005         Prode & Prejudice   TE\n",
              "7          James McAvoy  2016                     Split   WR\n",
              "9       Elizabeth Olsen  2021              Wanda Vision   RB\n",
              "8  Aaron Taylor-Johnson  2022              Bullet Train   CB"
            ]
          },
          "execution_count": 22,
          "metadata": {},
          "output_type": "execute_result"
        }
      ],
      "source": [
        "players.sort_values([\"Year\", \"Name\"])"
      ]
    },
    {
      "cell_type": "markdown",
      "metadata": {
        "id": "AXcTi_bkpjHs"
      },
      "source": [
        "## DESC\n",
        "`SELECT * FROM players ORDER BY Age DESC, Name`"
      ]
    },
    {
      "cell_type": "code",
      "execution_count": 24,
      "metadata": {
        "colab": {
          "base_uri": "https://localhost:8080/",
          "height": 363
        },
        "id": "pW467o_HpgbQ",
        "outputId": "dbd87884-9044-431f-d5cd-bc927c2743be"
      },
      "outputs": [
        {
          "data": {
            "text/html": [
              "<div>\n",
              "<style scoped>\n",
              "    .dataframe tbody tr th:only-of-type {\n",
              "        vertical-align: middle;\n",
              "    }\n",
              "\n",
              "    .dataframe tbody tr th {\n",
              "        vertical-align: top;\n",
              "    }\n",
              "\n",
              "    .dataframe thead th {\n",
              "        text-align: right;\n",
              "    }\n",
              "</style>\n",
              "<table border=\"1\" class=\"dataframe\">\n",
              "  <thead>\n",
              "    <tr style=\"text-align: right;\">\n",
              "      <th></th>\n",
              "      <th>Name</th>\n",
              "      <th>Year</th>\n",
              "      <th>Famous For</th>\n",
              "      <th>Code</th>\n",
              "    </tr>\n",
              "  </thead>\n",
              "  <tbody>\n",
              "    <tr>\n",
              "      <th>8</th>\n",
              "      <td>Aaron Taylor-Johnson</td>\n",
              "      <td>2022</td>\n",
              "      <td>Bullet Train</td>\n",
              "      <td>CB</td>\n",
              "    </tr>\n",
              "    <tr>\n",
              "      <th>9</th>\n",
              "      <td>Elizabeth Olsen</td>\n",
              "      <td>2021</td>\n",
              "      <td>Wanda Vision</td>\n",
              "      <td>RB</td>\n",
              "    </tr>\n",
              "    <tr>\n",
              "      <th>7</th>\n",
              "      <td>James McAvoy</td>\n",
              "      <td>2016</td>\n",
              "      <td>Split</td>\n",
              "      <td>WR</td>\n",
              "    </tr>\n",
              "    <tr>\n",
              "      <th>6</th>\n",
              "      <td>Keira Knightley</td>\n",
              "      <td>2005</td>\n",
              "      <td>Prode &amp; Prejudice</td>\n",
              "      <td>TE</td>\n",
              "    </tr>\n",
              "    <tr>\n",
              "      <th>5</th>\n",
              "      <td>Johnny Depp</td>\n",
              "      <td>2003</td>\n",
              "      <td>Pirates of the Caribbean</td>\n",
              "      <td>RB</td>\n",
              "    </tr>\n",
              "    <tr>\n",
              "      <th>1</th>\n",
              "      <td>Russell Crowe</td>\n",
              "      <td>2000</td>\n",
              "      <td>Gladiator</td>\n",
              "      <td>QB</td>\n",
              "    </tr>\n",
              "    <tr>\n",
              "      <th>2</th>\n",
              "      <td>Brad Pitt</td>\n",
              "      <td>1999</td>\n",
              "      <td>Fight Club</td>\n",
              "      <td>DT</td>\n",
              "    </tr>\n",
              "    <tr>\n",
              "      <th>3</th>\n",
              "      <td>Edward Norton</td>\n",
              "      <td>1996</td>\n",
              "      <td>Primal Fear</td>\n",
              "      <td>QB</td>\n",
              "    </tr>\n",
              "    <tr>\n",
              "      <th>0</th>\n",
              "      <td>Michael Jackson</td>\n",
              "      <td>1087</td>\n",
              "      <td>Smooth criminal</td>\n",
              "      <td>QB</td>\n",
              "    </tr>\n",
              "    <tr>\n",
              "      <th>4</th>\n",
              "      <td>Helena Bonham Carter</td>\n",
              "      <td>1005</td>\n",
              "      <td>Corpse Bride</td>\n",
              "      <td>WR</td>\n",
              "    </tr>\n",
              "  </tbody>\n",
              "</table>\n",
              "</div>"
            ],
            "text/plain": [
              "                   Name  Year                Famous For Code\n",
              "8  Aaron Taylor-Johnson  2022              Bullet Train   CB\n",
              "9       Elizabeth Olsen  2021              Wanda Vision   RB\n",
              "7          James McAvoy  2016                     Split   WR\n",
              "6       Keira Knightley  2005         Prode & Prejudice   TE\n",
              "5           Johnny Depp  2003  Pirates of the Caribbean   RB\n",
              "1         Russell Crowe  2000                 Gladiator   QB\n",
              "2             Brad Pitt  1999                Fight Club   DT\n",
              "3         Edward Norton  1996               Primal Fear   QB\n",
              "0       Michael Jackson  1087           Smooth criminal   QB\n",
              "4  Helena Bonham Carter  1005              Corpse Bride   WR"
            ]
          },
          "execution_count": 24,
          "metadata": {},
          "output_type": "execute_result"
        }
      ],
      "source": [
        "players.sort_values([\"Year\", \"Name\"], ascending=[False, True])"
      ]
    },
    {
      "cell_type": "markdown",
      "metadata": {
        "id": "WKyErf3Iprs2"
      },
      "source": [
        "# GROUP BY"
      ]
    },
    {
      "cell_type": "markdown",
      "metadata": {
        "id": "Yhkg3SVSpukA"
      },
      "source": [
        "## COUNT\n",
        "`SELECT COUNT(*) AS COUNT FROM players GROUP BY Position`"
      ]
    },
    {
      "cell_type": "code",
      "execution_count": 25,
      "metadata": {
        "colab": {
          "base_uri": "https://localhost:8080/",
          "height": 269
        },
        "id": "0O2onlyXpnjx",
        "outputId": "07dcf49b-59a1-4606-863b-ca6ae937feba"
      },
      "outputs": [
        {
          "data": {
            "text/html": [
              "<div>\n",
              "<style scoped>\n",
              "    .dataframe tbody tr th:only-of-type {\n",
              "        vertical-align: middle;\n",
              "    }\n",
              "\n",
              "    .dataframe tbody tr th {\n",
              "        vertical-align: top;\n",
              "    }\n",
              "\n",
              "    .dataframe thead th {\n",
              "        text-align: right;\n",
              "    }\n",
              "</style>\n",
              "<table border=\"1\" class=\"dataframe\">\n",
              "  <thead>\n",
              "    <tr style=\"text-align: right;\">\n",
              "      <th></th>\n",
              "      <th>COUNT</th>\n",
              "    </tr>\n",
              "    <tr>\n",
              "      <th>Code</th>\n",
              "      <th></th>\n",
              "    </tr>\n",
              "  </thead>\n",
              "  <tbody>\n",
              "    <tr>\n",
              "      <th>CB</th>\n",
              "      <td>1</td>\n",
              "    </tr>\n",
              "    <tr>\n",
              "      <th>DT</th>\n",
              "      <td>1</td>\n",
              "    </tr>\n",
              "    <tr>\n",
              "      <th>QB</th>\n",
              "      <td>3</td>\n",
              "    </tr>\n",
              "    <tr>\n",
              "      <th>RB</th>\n",
              "      <td>2</td>\n",
              "    </tr>\n",
              "    <tr>\n",
              "      <th>TE</th>\n",
              "      <td>1</td>\n",
              "    </tr>\n",
              "    <tr>\n",
              "      <th>WR</th>\n",
              "      <td>2</td>\n",
              "    </tr>\n",
              "  </tbody>\n",
              "</table>\n",
              "</div>"
            ],
            "text/plain": [
              "      COUNT\n",
              "Code       \n",
              "CB        1\n",
              "DT        1\n",
              "QB        3\n",
              "RB        2\n",
              "TE        1\n",
              "WR        2"
            ]
          },
          "execution_count": 25,
          "metadata": {},
          "output_type": "execute_result"
        }
      ],
      "source": [
        "players.groupby(\"Code\").agg({\"Name\": \"count\"}).rename(columns={\"Name\": \"COUNT\"})"
      ]
    },
    {
      "cell_type": "markdown",
      "metadata": {
        "id": "W2SYo0rtp2Eq"
      },
      "source": [
        "## SUM\n",
        "`SELECT SUM(Age) AS Age FROM players GROUP BY Position`"
      ]
    },
    {
      "cell_type": "code",
      "execution_count": 26,
      "metadata": {
        "colab": {
          "base_uri": "https://localhost:8080/",
          "height": 269
        },
        "id": "o2epzjszp0Y1",
        "outputId": "a4115273-32c3-4eb4-8d78-3bd4c1eb064b"
      },
      "outputs": [
        {
          "data": {
            "text/html": [
              "<div>\n",
              "<style scoped>\n",
              "    .dataframe tbody tr th:only-of-type {\n",
              "        vertical-align: middle;\n",
              "    }\n",
              "\n",
              "    .dataframe tbody tr th {\n",
              "        vertical-align: top;\n",
              "    }\n",
              "\n",
              "    .dataframe thead th {\n",
              "        text-align: right;\n",
              "    }\n",
              "</style>\n",
              "<table border=\"1\" class=\"dataframe\">\n",
              "  <thead>\n",
              "    <tr style=\"text-align: right;\">\n",
              "      <th></th>\n",
              "      <th>Year</th>\n",
              "    </tr>\n",
              "    <tr>\n",
              "      <th>Code</th>\n",
              "      <th></th>\n",
              "    </tr>\n",
              "  </thead>\n",
              "  <tbody>\n",
              "    <tr>\n",
              "      <th>CB</th>\n",
              "      <td>2022</td>\n",
              "    </tr>\n",
              "    <tr>\n",
              "      <th>DT</th>\n",
              "      <td>1999</td>\n",
              "    </tr>\n",
              "    <tr>\n",
              "      <th>QB</th>\n",
              "      <td>5083</td>\n",
              "    </tr>\n",
              "    <tr>\n",
              "      <th>RB</th>\n",
              "      <td>4024</td>\n",
              "    </tr>\n",
              "    <tr>\n",
              "      <th>TE</th>\n",
              "      <td>2005</td>\n",
              "    </tr>\n",
              "    <tr>\n",
              "      <th>WR</th>\n",
              "      <td>3021</td>\n",
              "    </tr>\n",
              "  </tbody>\n",
              "</table>\n",
              "</div>"
            ],
            "text/plain": [
              "      Year\n",
              "Code      \n",
              "CB    2022\n",
              "DT    1999\n",
              "QB    5083\n",
              "RB    4024\n",
              "TE    2005\n",
              "WR    3021"
            ]
          },
          "execution_count": 26,
          "metadata": {},
          "output_type": "execute_result"
        }
      ],
      "source": [
        "players.groupby(\"Code\").agg({\"Year\": \"sum\"})"
      ]
    },
    {
      "cell_type": "markdown",
      "metadata": {
        "id": "WmNYmHQDp9IK"
      },
      "source": [
        "## AVG\n",
        "`SELECT AVG(Age) AS Age FROM players GROUP BY Position`"
      ]
    },
    {
      "cell_type": "code",
      "execution_count": 27,
      "metadata": {
        "colab": {
          "base_uri": "https://localhost:8080/",
          "height": 269
        },
        "id": "hqAAoepOp693",
        "outputId": "3183e393-3b3c-4e08-8be3-f2e23d3498ae"
      },
      "outputs": [
        {
          "data": {
            "text/html": [
              "<div>\n",
              "<style scoped>\n",
              "    .dataframe tbody tr th:only-of-type {\n",
              "        vertical-align: middle;\n",
              "    }\n",
              "\n",
              "    .dataframe tbody tr th {\n",
              "        vertical-align: top;\n",
              "    }\n",
              "\n",
              "    .dataframe thead th {\n",
              "        text-align: right;\n",
              "    }\n",
              "</style>\n",
              "<table border=\"1\" class=\"dataframe\">\n",
              "  <thead>\n",
              "    <tr style=\"text-align: right;\">\n",
              "      <th></th>\n",
              "      <th>Year</th>\n",
              "    </tr>\n",
              "    <tr>\n",
              "      <th>Code</th>\n",
              "      <th></th>\n",
              "    </tr>\n",
              "  </thead>\n",
              "  <tbody>\n",
              "    <tr>\n",
              "      <th>CB</th>\n",
              "      <td>2022.000000</td>\n",
              "    </tr>\n",
              "    <tr>\n",
              "      <th>DT</th>\n",
              "      <td>1999.000000</td>\n",
              "    </tr>\n",
              "    <tr>\n",
              "      <th>QB</th>\n",
              "      <td>1694.333333</td>\n",
              "    </tr>\n",
              "    <tr>\n",
              "      <th>RB</th>\n",
              "      <td>2012.000000</td>\n",
              "    </tr>\n",
              "    <tr>\n",
              "      <th>TE</th>\n",
              "      <td>2005.000000</td>\n",
              "    </tr>\n",
              "    <tr>\n",
              "      <th>WR</th>\n",
              "      <td>1510.500000</td>\n",
              "    </tr>\n",
              "  </tbody>\n",
              "</table>\n",
              "</div>"
            ],
            "text/plain": [
              "             Year\n",
              "Code             \n",
              "CB    2022.000000\n",
              "DT    1999.000000\n",
              "QB    1694.333333\n",
              "RB    2012.000000\n",
              "TE    2005.000000\n",
              "WR    1510.500000"
            ]
          },
          "execution_count": 27,
          "metadata": {},
          "output_type": "execute_result"
        }
      ],
      "source": [
        "players.groupby(\"Code\").agg({\"Year\": \"mean\"})"
      ]
    },
    {
      "cell_type": "markdown",
      "metadata": {
        "id": "OYSg-wMQqD3-"
      },
      "source": [
        "## RANK\n",
        "`SELECT *, RANK() OVER (ORDER BY Age DESC) FROM players`"
      ]
    },
    {
      "cell_type": "code",
      "execution_count": 28,
      "metadata": {
        "colab": {
          "base_uri": "https://localhost:8080/",
          "height": 363
        },
        "id": "v4yQE5CjqBVM",
        "outputId": "db809700-e043-485b-b5c4-ddf0118d2be5"
      },
      "outputs": [
        {
          "data": {
            "text/html": [
              "<div>\n",
              "<style scoped>\n",
              "    .dataframe tbody tr th:only-of-type {\n",
              "        vertical-align: middle;\n",
              "    }\n",
              "\n",
              "    .dataframe tbody tr th {\n",
              "        vertical-align: top;\n",
              "    }\n",
              "\n",
              "    .dataframe thead th {\n",
              "        text-align: right;\n",
              "    }\n",
              "</style>\n",
              "<table border=\"1\" class=\"dataframe\">\n",
              "  <thead>\n",
              "    <tr style=\"text-align: right;\">\n",
              "      <th></th>\n",
              "      <th>Name</th>\n",
              "      <th>Year</th>\n",
              "      <th>Famous For</th>\n",
              "      <th>Code</th>\n",
              "      <th>YearRank</th>\n",
              "    </tr>\n",
              "  </thead>\n",
              "  <tbody>\n",
              "    <tr>\n",
              "      <th>0</th>\n",
              "      <td>Michael Jackson</td>\n",
              "      <td>1087</td>\n",
              "      <td>Smooth criminal</td>\n",
              "      <td>QB</td>\n",
              "      <td>9.0</td>\n",
              "    </tr>\n",
              "    <tr>\n",
              "      <th>1</th>\n",
              "      <td>Russell Crowe</td>\n",
              "      <td>2000</td>\n",
              "      <td>Gladiator</td>\n",
              "      <td>QB</td>\n",
              "      <td>6.0</td>\n",
              "    </tr>\n",
              "    <tr>\n",
              "      <th>2</th>\n",
              "      <td>Brad Pitt</td>\n",
              "      <td>1999</td>\n",
              "      <td>Fight Club</td>\n",
              "      <td>DT</td>\n",
              "      <td>7.0</td>\n",
              "    </tr>\n",
              "    <tr>\n",
              "      <th>3</th>\n",
              "      <td>Edward Norton</td>\n",
              "      <td>1996</td>\n",
              "      <td>Primal Fear</td>\n",
              "      <td>QB</td>\n",
              "      <td>8.0</td>\n",
              "    </tr>\n",
              "    <tr>\n",
              "      <th>4</th>\n",
              "      <td>Helena Bonham Carter</td>\n",
              "      <td>1005</td>\n",
              "      <td>Corpse Bride</td>\n",
              "      <td>WR</td>\n",
              "      <td>10.0</td>\n",
              "    </tr>\n",
              "    <tr>\n",
              "      <th>5</th>\n",
              "      <td>Johnny Depp</td>\n",
              "      <td>2003</td>\n",
              "      <td>Pirates of the Caribbean</td>\n",
              "      <td>RB</td>\n",
              "      <td>5.0</td>\n",
              "    </tr>\n",
              "    <tr>\n",
              "      <th>6</th>\n",
              "      <td>Keira Knightley</td>\n",
              "      <td>2005</td>\n",
              "      <td>Prode &amp; Prejudice</td>\n",
              "      <td>TE</td>\n",
              "      <td>4.0</td>\n",
              "    </tr>\n",
              "    <tr>\n",
              "      <th>7</th>\n",
              "      <td>James McAvoy</td>\n",
              "      <td>2016</td>\n",
              "      <td>Split</td>\n",
              "      <td>WR</td>\n",
              "      <td>3.0</td>\n",
              "    </tr>\n",
              "    <tr>\n",
              "      <th>8</th>\n",
              "      <td>Aaron Taylor-Johnson</td>\n",
              "      <td>2022</td>\n",
              "      <td>Bullet Train</td>\n",
              "      <td>CB</td>\n",
              "      <td>1.0</td>\n",
              "    </tr>\n",
              "    <tr>\n",
              "      <th>9</th>\n",
              "      <td>Elizabeth Olsen</td>\n",
              "      <td>2021</td>\n",
              "      <td>Wanda Vision</td>\n",
              "      <td>RB</td>\n",
              "      <td>2.0</td>\n",
              "    </tr>\n",
              "  </tbody>\n",
              "</table>\n",
              "</div>"
            ],
            "text/plain": [
              "                   Name  Year                Famous For Code  YearRank\n",
              "0       Michael Jackson  1087           Smooth criminal   QB       9.0\n",
              "1         Russell Crowe  2000                 Gladiator   QB       6.0\n",
              "2             Brad Pitt  1999                Fight Club   DT       7.0\n",
              "3         Edward Norton  1996               Primal Fear   QB       8.0\n",
              "4  Helena Bonham Carter  1005              Corpse Bride   WR      10.0\n",
              "5           Johnny Depp  2003  Pirates of the Caribbean   RB       5.0\n",
              "6       Keira Knightley  2005         Prode & Prejudice   TE       4.0\n",
              "7          James McAvoy  2016                     Split   WR       3.0\n",
              "8  Aaron Taylor-Johnson  2022              Bullet Train   CB       1.0\n",
              "9       Elizabeth Olsen  2021              Wanda Vision   RB       2.0"
            ]
          },
          "execution_count": 28,
          "metadata": {},
          "output_type": "execute_result"
        }
      ],
      "source": [
        "players[\"YearRank\"] = players.Year.rank(ascending=False)\n",
        "players"
      ]
    },
    {
      "cell_type": "markdown",
      "metadata": {
        "id": "2iRmpm9DqN-J"
      },
      "source": [
        "## RANK + PARTITION BY\n",
        "`SELECT *, RANK() OVER (PARTITION BY Position ORDER BY Age DESC) FROM players`"
      ]
    },
    {
      "cell_type": "code",
      "execution_count": 29,
      "metadata": {
        "colab": {
          "base_uri": "https://localhost:8080/",
          "height": 363
        },
        "id": "8eSW4Y8NqLq5",
        "outputId": "b334191c-157b-40d8-c068-b4867402ffad"
      },
      "outputs": [
        {
          "data": {
            "text/html": [
              "<div>\n",
              "<style scoped>\n",
              "    .dataframe tbody tr th:only-of-type {\n",
              "        vertical-align: middle;\n",
              "    }\n",
              "\n",
              "    .dataframe tbody tr th {\n",
              "        vertical-align: top;\n",
              "    }\n",
              "\n",
              "    .dataframe thead th {\n",
              "        text-align: right;\n",
              "    }\n",
              "</style>\n",
              "<table border=\"1\" class=\"dataframe\">\n",
              "  <thead>\n",
              "    <tr style=\"text-align: right;\">\n",
              "      <th></th>\n",
              "      <th>Name</th>\n",
              "      <th>Year</th>\n",
              "      <th>Famous For</th>\n",
              "      <th>Code</th>\n",
              "      <th>YearRank</th>\n",
              "    </tr>\n",
              "  </thead>\n",
              "  <tbody>\n",
              "    <tr>\n",
              "      <th>0</th>\n",
              "      <td>Michael Jackson</td>\n",
              "      <td>1087</td>\n",
              "      <td>Smooth criminal</td>\n",
              "      <td>QB</td>\n",
              "      <td>3.0</td>\n",
              "    </tr>\n",
              "    <tr>\n",
              "      <th>1</th>\n",
              "      <td>Russell Crowe</td>\n",
              "      <td>2000</td>\n",
              "      <td>Gladiator</td>\n",
              "      <td>QB</td>\n",
              "      <td>1.0</td>\n",
              "    </tr>\n",
              "    <tr>\n",
              "      <th>2</th>\n",
              "      <td>Brad Pitt</td>\n",
              "      <td>1999</td>\n",
              "      <td>Fight Club</td>\n",
              "      <td>DT</td>\n",
              "      <td>1.0</td>\n",
              "    </tr>\n",
              "    <tr>\n",
              "      <th>3</th>\n",
              "      <td>Edward Norton</td>\n",
              "      <td>1996</td>\n",
              "      <td>Primal Fear</td>\n",
              "      <td>QB</td>\n",
              "      <td>2.0</td>\n",
              "    </tr>\n",
              "    <tr>\n",
              "      <th>4</th>\n",
              "      <td>Helena Bonham Carter</td>\n",
              "      <td>1005</td>\n",
              "      <td>Corpse Bride</td>\n",
              "      <td>WR</td>\n",
              "      <td>2.0</td>\n",
              "    </tr>\n",
              "    <tr>\n",
              "      <th>5</th>\n",
              "      <td>Johnny Depp</td>\n",
              "      <td>2003</td>\n",
              "      <td>Pirates of the Caribbean</td>\n",
              "      <td>RB</td>\n",
              "      <td>2.0</td>\n",
              "    </tr>\n",
              "    <tr>\n",
              "      <th>6</th>\n",
              "      <td>Keira Knightley</td>\n",
              "      <td>2005</td>\n",
              "      <td>Prode &amp; Prejudice</td>\n",
              "      <td>TE</td>\n",
              "      <td>1.0</td>\n",
              "    </tr>\n",
              "    <tr>\n",
              "      <th>7</th>\n",
              "      <td>James McAvoy</td>\n",
              "      <td>2016</td>\n",
              "      <td>Split</td>\n",
              "      <td>WR</td>\n",
              "      <td>1.0</td>\n",
              "    </tr>\n",
              "    <tr>\n",
              "      <th>8</th>\n",
              "      <td>Aaron Taylor-Johnson</td>\n",
              "      <td>2022</td>\n",
              "      <td>Bullet Train</td>\n",
              "      <td>CB</td>\n",
              "      <td>1.0</td>\n",
              "    </tr>\n",
              "    <tr>\n",
              "      <th>9</th>\n",
              "      <td>Elizabeth Olsen</td>\n",
              "      <td>2021</td>\n",
              "      <td>Wanda Vision</td>\n",
              "      <td>RB</td>\n",
              "      <td>1.0</td>\n",
              "    </tr>\n",
              "  </tbody>\n",
              "</table>\n",
              "</div>"
            ],
            "text/plain": [
              "                   Name  Year                Famous For Code  YearRank\n",
              "0       Michael Jackson  1087           Smooth criminal   QB       3.0\n",
              "1         Russell Crowe  2000                 Gladiator   QB       1.0\n",
              "2             Brad Pitt  1999                Fight Club   DT       1.0\n",
              "3         Edward Norton  1996               Primal Fear   QB       2.0\n",
              "4  Helena Bonham Carter  1005              Corpse Bride   WR       2.0\n",
              "5           Johnny Depp  2003  Pirates of the Caribbean   RB       2.0\n",
              "6       Keira Knightley  2005         Prode & Prejudice   TE       1.0\n",
              "7          James McAvoy  2016                     Split   WR       1.0\n",
              "8  Aaron Taylor-Johnson  2022              Bullet Train   CB       1.0\n",
              "9       Elizabeth Olsen  2021              Wanda Vision   RB       1.0"
            ]
          },
          "execution_count": 29,
          "metadata": {},
          "output_type": "execute_result"
        }
      ],
      "source": [
        "players[\"YearRank\"] = players.groupby(\"Code\")[\"Year\"].rank(ascending=False)\n",
        "players"
      ]
    },
    {
      "cell_type": "markdown",
      "metadata": {
        "id": "9CwvWHJdqWk4"
      },
      "source": [
        "## DENSE\n",
        "`SELECT *, DENSE_RANK() OVER (ORDER BY Age DESC) FROM players`\n"
      ]
    },
    {
      "cell_type": "code",
      "execution_count": 30,
      "metadata": {
        "colab": {
          "base_uri": "https://localhost:8080/",
          "height": 363
        },
        "id": "PD2yYBcIqSr_",
        "outputId": "cfcd3428-cf0f-42f9-ae06-5bf4c5da9f73"
      },
      "outputs": [
        {
          "data": {
            "text/html": [
              "<div>\n",
              "<style scoped>\n",
              "    .dataframe tbody tr th:only-of-type {\n",
              "        vertical-align: middle;\n",
              "    }\n",
              "\n",
              "    .dataframe tbody tr th {\n",
              "        vertical-align: top;\n",
              "    }\n",
              "\n",
              "    .dataframe thead th {\n",
              "        text-align: right;\n",
              "    }\n",
              "</style>\n",
              "<table border=\"1\" class=\"dataframe\">\n",
              "  <thead>\n",
              "    <tr style=\"text-align: right;\">\n",
              "      <th></th>\n",
              "      <th>Name</th>\n",
              "      <th>Year</th>\n",
              "      <th>Famous For</th>\n",
              "      <th>Code</th>\n",
              "      <th>YearRank</th>\n",
              "    </tr>\n",
              "  </thead>\n",
              "  <tbody>\n",
              "    <tr>\n",
              "      <th>0</th>\n",
              "      <td>Michael Jackson</td>\n",
              "      <td>1087</td>\n",
              "      <td>Smooth criminal</td>\n",
              "      <td>QB</td>\n",
              "      <td>9.0</td>\n",
              "    </tr>\n",
              "    <tr>\n",
              "      <th>1</th>\n",
              "      <td>Russell Crowe</td>\n",
              "      <td>2000</td>\n",
              "      <td>Gladiator</td>\n",
              "      <td>QB</td>\n",
              "      <td>6.0</td>\n",
              "    </tr>\n",
              "    <tr>\n",
              "      <th>2</th>\n",
              "      <td>Brad Pitt</td>\n",
              "      <td>1999</td>\n",
              "      <td>Fight Club</td>\n",
              "      <td>DT</td>\n",
              "      <td>7.0</td>\n",
              "    </tr>\n",
              "    <tr>\n",
              "      <th>3</th>\n",
              "      <td>Edward Norton</td>\n",
              "      <td>1996</td>\n",
              "      <td>Primal Fear</td>\n",
              "      <td>QB</td>\n",
              "      <td>8.0</td>\n",
              "    </tr>\n",
              "    <tr>\n",
              "      <th>4</th>\n",
              "      <td>Helena Bonham Carter</td>\n",
              "      <td>1005</td>\n",
              "      <td>Corpse Bride</td>\n",
              "      <td>WR</td>\n",
              "      <td>10.0</td>\n",
              "    </tr>\n",
              "    <tr>\n",
              "      <th>5</th>\n",
              "      <td>Johnny Depp</td>\n",
              "      <td>2003</td>\n",
              "      <td>Pirates of the Caribbean</td>\n",
              "      <td>RB</td>\n",
              "      <td>5.0</td>\n",
              "    </tr>\n",
              "    <tr>\n",
              "      <th>6</th>\n",
              "      <td>Keira Knightley</td>\n",
              "      <td>2005</td>\n",
              "      <td>Prode &amp; Prejudice</td>\n",
              "      <td>TE</td>\n",
              "      <td>4.0</td>\n",
              "    </tr>\n",
              "    <tr>\n",
              "      <th>7</th>\n",
              "      <td>James McAvoy</td>\n",
              "      <td>2016</td>\n",
              "      <td>Split</td>\n",
              "      <td>WR</td>\n",
              "      <td>3.0</td>\n",
              "    </tr>\n",
              "    <tr>\n",
              "      <th>8</th>\n",
              "      <td>Aaron Taylor-Johnson</td>\n",
              "      <td>2022</td>\n",
              "      <td>Bullet Train</td>\n",
              "      <td>CB</td>\n",
              "      <td>1.0</td>\n",
              "    </tr>\n",
              "    <tr>\n",
              "      <th>9</th>\n",
              "      <td>Elizabeth Olsen</td>\n",
              "      <td>2021</td>\n",
              "      <td>Wanda Vision</td>\n",
              "      <td>RB</td>\n",
              "      <td>2.0</td>\n",
              "    </tr>\n",
              "  </tbody>\n",
              "</table>\n",
              "</div>"
            ],
            "text/plain": [
              "                   Name  Year                Famous For Code  YearRank\n",
              "0       Michael Jackson  1087           Smooth criminal   QB       9.0\n",
              "1         Russell Crowe  2000                 Gladiator   QB       6.0\n",
              "2             Brad Pitt  1999                Fight Club   DT       7.0\n",
              "3         Edward Norton  1996               Primal Fear   QB       8.0\n",
              "4  Helena Bonham Carter  1005              Corpse Bride   WR      10.0\n",
              "5           Johnny Depp  2003  Pirates of the Caribbean   RB       5.0\n",
              "6       Keira Knightley  2005         Prode & Prejudice   TE       4.0\n",
              "7          James McAvoy  2016                     Split   WR       3.0\n",
              "8  Aaron Taylor-Johnson  2022              Bullet Train   CB       1.0\n",
              "9       Elizabeth Olsen  2021              Wanda Vision   RB       2.0"
            ]
          },
          "execution_count": 30,
          "metadata": {},
          "output_type": "execute_result"
        }
      ],
      "source": [
        "players[\"YearRank\"] = players.Year.rank(method=\"dense\", ascending=False)\n",
        "players"
      ]
    },
    {
      "cell_type": "markdown",
      "metadata": {
        "id": "a7_IKzqLqrEE"
      },
      "source": [
        "# UPDATE"
      ]
    },
    {
      "cell_type": "markdown",
      "metadata": {
        "id": "U0sAWHDYqtHY"
      },
      "source": [
        "`UPDATE players SET Age = 0 WHERE Age = 24`"
      ]
    },
    {
      "cell_type": "code",
      "execution_count": 31,
      "metadata": {
        "colab": {
          "base_uri": "https://localhost:8080/",
          "height": 363
        },
        "id": "qJ-vRv3GqcfW",
        "outputId": "67da5ad5-dbcf-4987-be97-54437b267ef7"
      },
      "outputs": [
        {
          "data": {
            "text/html": [
              "<div>\n",
              "<style scoped>\n",
              "    .dataframe tbody tr th:only-of-type {\n",
              "        vertical-align: middle;\n",
              "    }\n",
              "\n",
              "    .dataframe tbody tr th {\n",
              "        vertical-align: top;\n",
              "    }\n",
              "\n",
              "    .dataframe thead th {\n",
              "        text-align: right;\n",
              "    }\n",
              "</style>\n",
              "<table border=\"1\" class=\"dataframe\">\n",
              "  <thead>\n",
              "    <tr style=\"text-align: right;\">\n",
              "      <th></th>\n",
              "      <th>Name</th>\n",
              "      <th>Year</th>\n",
              "      <th>Famous For</th>\n",
              "      <th>Code</th>\n",
              "      <th>YearRank</th>\n",
              "    </tr>\n",
              "  </thead>\n",
              "  <tbody>\n",
              "    <tr>\n",
              "      <th>0</th>\n",
              "      <td>Michael Jackson</td>\n",
              "      <td>1087</td>\n",
              "      <td>Smooth criminal</td>\n",
              "      <td>QB</td>\n",
              "      <td>9.0</td>\n",
              "    </tr>\n",
              "    <tr>\n",
              "      <th>1</th>\n",
              "      <td>Russell Crowe</td>\n",
              "      <td>2000</td>\n",
              "      <td>Gladiator</td>\n",
              "      <td>QB</td>\n",
              "      <td>6.0</td>\n",
              "    </tr>\n",
              "    <tr>\n",
              "      <th>2</th>\n",
              "      <td>Brad Pitt</td>\n",
              "      <td>1999</td>\n",
              "      <td>Fight Club</td>\n",
              "      <td>DT</td>\n",
              "      <td>7.0</td>\n",
              "    </tr>\n",
              "    <tr>\n",
              "      <th>3</th>\n",
              "      <td>Edward Norton</td>\n",
              "      <td>1996</td>\n",
              "      <td>Primal Fear</td>\n",
              "      <td>QB</td>\n",
              "      <td>8.0</td>\n",
              "    </tr>\n",
              "    <tr>\n",
              "      <th>4</th>\n",
              "      <td>Helena Bonham Carter</td>\n",
              "      <td>2005</td>\n",
              "      <td>Corpse Bride</td>\n",
              "      <td>WR</td>\n",
              "      <td>10.0</td>\n",
              "    </tr>\n",
              "    <tr>\n",
              "      <th>5</th>\n",
              "      <td>Johnny Depp</td>\n",
              "      <td>2003</td>\n",
              "      <td>Pirates of the Caribbean</td>\n",
              "      <td>RB</td>\n",
              "      <td>5.0</td>\n",
              "    </tr>\n",
              "    <tr>\n",
              "      <th>6</th>\n",
              "      <td>Keira Knightley</td>\n",
              "      <td>2005</td>\n",
              "      <td>Prode &amp; Prejudice</td>\n",
              "      <td>TE</td>\n",
              "      <td>4.0</td>\n",
              "    </tr>\n",
              "    <tr>\n",
              "      <th>7</th>\n",
              "      <td>James McAvoy</td>\n",
              "      <td>2016</td>\n",
              "      <td>Split</td>\n",
              "      <td>WR</td>\n",
              "      <td>3.0</td>\n",
              "    </tr>\n",
              "    <tr>\n",
              "      <th>8</th>\n",
              "      <td>Aaron Taylor-Johnson</td>\n",
              "      <td>2022</td>\n",
              "      <td>Bullet Train</td>\n",
              "      <td>CB</td>\n",
              "      <td>1.0</td>\n",
              "    </tr>\n",
              "    <tr>\n",
              "      <th>9</th>\n",
              "      <td>Elizabeth Olsen</td>\n",
              "      <td>2021</td>\n",
              "      <td>Wanda Vision</td>\n",
              "      <td>RB</td>\n",
              "      <td>2.0</td>\n",
              "    </tr>\n",
              "  </tbody>\n",
              "</table>\n",
              "</div>"
            ],
            "text/plain": [
              "                   Name  Year                Famous For Code  YearRank\n",
              "0       Michael Jackson  1087           Smooth criminal   QB       9.0\n",
              "1         Russell Crowe  2000                 Gladiator   QB       6.0\n",
              "2             Brad Pitt  1999                Fight Club   DT       7.0\n",
              "3         Edward Norton  1996               Primal Fear   QB       8.0\n",
              "4  Helena Bonham Carter  2005              Corpse Bride   WR      10.0\n",
              "5           Johnny Depp  2003  Pirates of the Caribbean   RB       5.0\n",
              "6       Keira Knightley  2005         Prode & Prejudice   TE       4.0\n",
              "7          James McAvoy  2016                     Split   WR       3.0\n",
              "8  Aaron Taylor-Johnson  2022              Bullet Train   CB       1.0\n",
              "9       Elizabeth Olsen  2021              Wanda Vision   RB       2.0"
            ]
          },
          "execution_count": 31,
          "metadata": {},
          "output_type": "execute_result"
        }
      ],
      "source": [
        "players.loc[players.Year == 1005, \"Year\"] = 2005\n",
        "players"
      ]
    },
    {
      "cell_type": "code",
      "execution_count": 32,
      "metadata": {},
      "outputs": [],
      "source": [
        "players['Year'].replace(1087, 1987, inplace=True)"
      ]
    },
    {
      "cell_type": "markdown",
      "metadata": {
        "id": "K4DzR4ebrP-k"
      },
      "source": [
        "# JOIN"
      ]
    },
    {
      "cell_type": "markdown",
      "metadata": {
        "id": "CKT0oFP1rTwU"
      },
      "source": [
        "## Dataset"
      ]
    },
    {
      "cell_type": "code",
      "execution_count": 34,
      "metadata": {
        "id": "tSFtKt4Kqyj0"
      },
      "outputs": [
        {
          "data": {
            "text/html": [
              "<div>\n",
              "<style scoped>\n",
              "    .dataframe tbody tr th:only-of-type {\n",
              "        vertical-align: middle;\n",
              "    }\n",
              "\n",
              "    .dataframe tbody tr th {\n",
              "        vertical-align: top;\n",
              "    }\n",
              "\n",
              "    .dataframe thead th {\n",
              "        text-align: right;\n",
              "    }\n",
              "</style>\n",
              "<table border=\"1\" class=\"dataframe\">\n",
              "  <thead>\n",
              "    <tr style=\"text-align: right;\">\n",
              "      <th></th>\n",
              "      <th>Id</th>\n",
              "      <th>Name</th>\n",
              "    </tr>\n",
              "  </thead>\n",
              "  <tbody>\n",
              "    <tr>\n",
              "      <th>0</th>\n",
              "      <td>1</td>\n",
              "      <td>Arizona Diamondbacks</td>\n",
              "    </tr>\n",
              "    <tr>\n",
              "      <th>1</th>\n",
              "      <td>2</td>\n",
              "      <td>Colorado Rockies</td>\n",
              "    </tr>\n",
              "    <tr>\n",
              "      <th>2</th>\n",
              "      <td>3</td>\n",
              "      <td>Los Angeles Dodgers</td>\n",
              "    </tr>\n",
              "    <tr>\n",
              "      <th>3</th>\n",
              "      <td>4</td>\n",
              "      <td>San Diego Padres</td>\n",
              "    </tr>\n",
              "    <tr>\n",
              "      <th>4</th>\n",
              "      <td>5</td>\n",
              "      <td>San Francisco Giants</td>\n",
              "    </tr>\n",
              "  </tbody>\n",
              "</table>\n",
              "</div>"
            ],
            "text/plain": [
              "   Id                  Name\n",
              "0   1  Arizona Diamondbacks\n",
              "1   2      Colorado Rockies\n",
              "2   3   Los Angeles Dodgers\n",
              "3   4      San Diego Padres\n",
              "4   5  San Francisco Giants"
            ]
          },
          "execution_count": 34,
          "metadata": {},
          "output_type": "execute_result"
        }
      ],
      "source": [
        "df_team = [\n",
        "  [1, \"Arizona Diamondbacks\"]\n",
        "  , [2, \"Colorado Rockies\"]\n",
        "  , [3, \"Los Angeles Dodgers\"]\n",
        "  , [4, \"San Diego Padres\"]\n",
        "  , [5, \"San Francisco Giants\"]\n",
        "]\n",
        "team_columns = [\"Id\", \"Name\"]\n",
        "teams = pd.DataFrame(data=df_team, columns=team_columns)\n",
        "teams"
      ]
    },
    {
      "cell_type": "code",
      "execution_count": 35,
      "metadata": {
        "id": "CwppJlKjrY5t"
      },
      "outputs": [
        {
          "data": {
            "text/html": [
              "<div>\n",
              "<style scoped>\n",
              "    .dataframe tbody tr th:only-of-type {\n",
              "        vertical-align: middle;\n",
              "    }\n",
              "\n",
              "    .dataframe tbody tr th {\n",
              "        vertical-align: top;\n",
              "    }\n",
              "\n",
              "    .dataframe thead th {\n",
              "        text-align: right;\n",
              "    }\n",
              "</style>\n",
              "<table border=\"1\" class=\"dataframe\">\n",
              "  <thead>\n",
              "    <tr style=\"text-align: right;\">\n",
              "      <th></th>\n",
              "      <th>Id</th>\n",
              "      <th>Name</th>\n",
              "      <th>TeamId</th>\n",
              "      <th>Position</th>\n",
              "    </tr>\n",
              "  </thead>\n",
              "  <tbody>\n",
              "    <tr>\n",
              "      <th>0</th>\n",
              "      <td>1</td>\n",
              "      <td>Cody Bellinger</td>\n",
              "      <td>3</td>\n",
              "      <td>OF</td>\n",
              "    </tr>\n",
              "    <tr>\n",
              "      <th>1</th>\n",
              "      <td>2</td>\n",
              "      <td>Mookie Betts</td>\n",
              "      <td>3</td>\n",
              "      <td>OF</td>\n",
              "    </tr>\n",
              "    <tr>\n",
              "      <th>2</th>\n",
              "      <td>3</td>\n",
              "      <td>Nolan Arenado</td>\n",
              "      <td>2</td>\n",
              "      <td>3B</td>\n",
              "    </tr>\n",
              "    <tr>\n",
              "      <th>3</th>\n",
              "      <td>4</td>\n",
              "      <td>Trevor Story</td>\n",
              "      <td>2</td>\n",
              "      <td>SS</td>\n",
              "    </tr>\n",
              "    <tr>\n",
              "      <th>4</th>\n",
              "      <td>5</td>\n",
              "      <td>Fernando Tatis Jr.</td>\n",
              "      <td>4</td>\n",
              "      <td>SS</td>\n",
              "    </tr>\n",
              "    <tr>\n",
              "      <th>5</th>\n",
              "      <td>6</td>\n",
              "      <td>Buster Posey</td>\n",
              "      <td>5</td>\n",
              "      <td>C</td>\n",
              "    </tr>\n",
              "    <tr>\n",
              "      <th>6</th>\n",
              "      <td>7</td>\n",
              "      <td>Starling Marte</td>\n",
              "      <td>1</td>\n",
              "      <td>OF</td>\n",
              "    </tr>\n",
              "    <tr>\n",
              "      <th>7</th>\n",
              "      <td>8</td>\n",
              "      <td>Manny Machado</td>\n",
              "      <td>4</td>\n",
              "      <td>3B</td>\n",
              "    </tr>\n",
              "  </tbody>\n",
              "</table>\n",
              "</div>"
            ],
            "text/plain": [
              "   Id                Name  TeamId Position\n",
              "0   1      Cody Bellinger       3       OF\n",
              "1   2        Mookie Betts       3       OF\n",
              "2   3       Nolan Arenado       2       3B\n",
              "3   4        Trevor Story       2       SS\n",
              "4   5  Fernando Tatis Jr.       4       SS\n",
              "5   6        Buster Posey       5        C\n",
              "6   7      Starling Marte       1       OF\n",
              "7   8       Manny Machado       4       3B"
            ]
          },
          "execution_count": 35,
          "metadata": {},
          "output_type": "execute_result"
        }
      ],
      "source": [
        "df_player = [\n",
        "  [1, \"Cody Bellinger\", 3, \"OF\"]\n",
        "  , [2, \"Mookie Betts\", 3, \"OF\"]\n",
        "  , [3, \"Nolan Arenado\", 2, \"3B\"]\n",
        "  , [4, \"Trevor Story\", 2, \"SS\"]\n",
        "  , [5, \"Fernando Tatis Jr.\", 4, \"SS\"]\n",
        "  , [6, \"Buster Posey\", 5, \"C\"]\n",
        "  , [7, \"Starling Marte\", 1, \"OF\"]\n",
        "  , [8, \"Manny Machado\", 4, \"3B\"]\n",
        "]\n",
        "player_columns = [\"Id\", \"Name\", \"TeamId\", \"Position\"]\n",
        "players = pd.DataFrame(data=df_player, columns=player_columns)\n",
        "players"
      ]
    },
    {
      "cell_type": "code",
      "execution_count": 36,
      "metadata": {
        "id": "j4OOuVuOrawB"
      },
      "outputs": [
        {
          "data": {
            "text/html": [
              "<div>\n",
              "<style scoped>\n",
              "    .dataframe tbody tr th:only-of-type {\n",
              "        vertical-align: middle;\n",
              "    }\n",
              "\n",
              "    .dataframe tbody tr th {\n",
              "        vertical-align: top;\n",
              "    }\n",
              "\n",
              "    .dataframe thead th {\n",
              "        text-align: right;\n",
              "    }\n",
              "</style>\n",
              "<table border=\"1\" class=\"dataframe\">\n",
              "  <thead>\n",
              "    <tr style=\"text-align: right;\">\n",
              "      <th></th>\n",
              "      <th>PlayerId</th>\n",
              "      <th>Homerun</th>\n",
              "    </tr>\n",
              "  </thead>\n",
              "  <tbody>\n",
              "    <tr>\n",
              "      <th>0</th>\n",
              "      <td>2</td>\n",
              "      <td>16</td>\n",
              "    </tr>\n",
              "    <tr>\n",
              "      <th>1</th>\n",
              "      <td>5</td>\n",
              "      <td>15</td>\n",
              "    </tr>\n",
              "    <tr>\n",
              "      <th>2</th>\n",
              "      <td>8</td>\n",
              "      <td>16</td>\n",
              "    </tr>\n",
              "  </tbody>\n",
              "</table>\n",
              "</div>"
            ],
            "text/plain": [
              "   PlayerId  Homerun\n",
              "0         2       16\n",
              "1         5       15\n",
              "2         8       16"
            ]
          },
          "execution_count": 36,
          "metadata": {},
          "output_type": "execute_result"
        }
      ],
      "source": [
        "df_homerun = [\n",
        "  [2, 16]\n",
        "  , [5, 15]\n",
        "  , [8, 16]\n",
        "]\n",
        "homerun_columns = [\"PlayerId\", \"Homerun\"]\n",
        "homeruns = pd.DataFrame(data=df_homerun, columns=homerun_columns)\n",
        "homeruns"
      ]
    },
    {
      "cell_type": "markdown",
      "metadata": {
        "id": "135ZN29Eriq-"
      },
      "source": [
        "## INNER JOIN\n",
        "\n",
        "\n",
        "```\n",
        "SELECT\n",
        "  p.Id\n",
        "  ,p.Name\n",
        "  ,h.Homerun\n",
        "FROM players p\n",
        "INNER JOIN homeruns h\n",
        "  ON p.Id = h.PlayerId\n",
        "```\n",
        "\n"
      ]
    },
    {
      "cell_type": "code",
      "execution_count": 37,
      "metadata": {
        "colab": {
          "base_uri": "https://localhost:8080/",
          "height": 143
        },
        "id": "lt1Zf4ArrfTD",
        "outputId": "453cc6d2-9750-4e1a-ad13-21bb8d95d23d"
      },
      "outputs": [
        {
          "data": {
            "text/html": [
              "<div>\n",
              "<style scoped>\n",
              "    .dataframe tbody tr th:only-of-type {\n",
              "        vertical-align: middle;\n",
              "    }\n",
              "\n",
              "    .dataframe tbody tr th {\n",
              "        vertical-align: top;\n",
              "    }\n",
              "\n",
              "    .dataframe thead th {\n",
              "        text-align: right;\n",
              "    }\n",
              "</style>\n",
              "<table border=\"1\" class=\"dataframe\">\n",
              "  <thead>\n",
              "    <tr style=\"text-align: right;\">\n",
              "      <th></th>\n",
              "      <th>Id</th>\n",
              "      <th>Name</th>\n",
              "      <th>TeamId</th>\n",
              "      <th>Position</th>\n",
              "      <th>PlayerId</th>\n",
              "      <th>Homerun</th>\n",
              "    </tr>\n",
              "  </thead>\n",
              "  <tbody>\n",
              "    <tr>\n",
              "      <th>0</th>\n",
              "      <td>2</td>\n",
              "      <td>Mookie Betts</td>\n",
              "      <td>3</td>\n",
              "      <td>OF</td>\n",
              "      <td>2</td>\n",
              "      <td>16</td>\n",
              "    </tr>\n",
              "    <tr>\n",
              "      <th>1</th>\n",
              "      <td>5</td>\n",
              "      <td>Fernando Tatis Jr.</td>\n",
              "      <td>4</td>\n",
              "      <td>SS</td>\n",
              "      <td>5</td>\n",
              "      <td>15</td>\n",
              "    </tr>\n",
              "    <tr>\n",
              "      <th>2</th>\n",
              "      <td>8</td>\n",
              "      <td>Manny Machado</td>\n",
              "      <td>4</td>\n",
              "      <td>3B</td>\n",
              "      <td>8</td>\n",
              "      <td>16</td>\n",
              "    </tr>\n",
              "  </tbody>\n",
              "</table>\n",
              "</div>"
            ],
            "text/plain": [
              "   Id                Name  TeamId Position  PlayerId  Homerun\n",
              "0   2        Mookie Betts       3       OF         2       16\n",
              "1   5  Fernando Tatis Jr.       4       SS         5       15\n",
              "2   8       Manny Machado       4       3B         8       16"
            ]
          },
          "execution_count": 37,
          "metadata": {},
          "output_type": "execute_result"
        }
      ],
      "source": [
        "player_homerun = pd.merge(players, homeruns, left_on=\"Id\", right_on=\"PlayerId\", how=\"inner\")\n",
        "player_homerun"
      ]
    },
    {
      "cell_type": "markdown",
      "metadata": {
        "id": "eUxgb_cXr2QH"
      },
      "source": [
        "If each table have several keys, you set the “on” parameter as list.\n",
        "\n",
        "\n",
        "```\n",
        "player_homerun = pd.merge(players, homeruns, left_on=[\"Id\", \"xx\", ...], right_on=[\"PlayerId\", \"xx\", ...], how=\"inner\")\n",
        "```\n",
        "\n"
      ]
    },
    {
      "cell_type": "markdown",
      "metadata": {
        "id": "vou-UcZFsMQc"
      },
      "source": [
        "You can use the suffix for each column."
      ]
    },
    {
      "cell_type": "code",
      "execution_count": 38,
      "metadata": {
        "colab": {
          "base_uri": "https://localhost:8080/",
          "height": 300
        },
        "id": "32SdPv05r6v2",
        "outputId": "05818894-b663-4a0d-ddd6-19ee9681b28c"
      },
      "outputs": [
        {
          "data": {
            "text/html": [
              "<div>\n",
              "<style scoped>\n",
              "    .dataframe tbody tr th:only-of-type {\n",
              "        vertical-align: middle;\n",
              "    }\n",
              "\n",
              "    .dataframe tbody tr th {\n",
              "        vertical-align: top;\n",
              "    }\n",
              "\n",
              "    .dataframe thead th {\n",
              "        text-align: right;\n",
              "    }\n",
              "</style>\n",
              "<table border=\"1\" class=\"dataframe\">\n",
              "  <thead>\n",
              "    <tr style=\"text-align: right;\">\n",
              "      <th></th>\n",
              "      <th>Id_player</th>\n",
              "      <th>Name_player</th>\n",
              "      <th>TeamId</th>\n",
              "      <th>Position</th>\n",
              "      <th>Id_team</th>\n",
              "      <th>Name_team</th>\n",
              "    </tr>\n",
              "  </thead>\n",
              "  <tbody>\n",
              "    <tr>\n",
              "      <th>0</th>\n",
              "      <td>1</td>\n",
              "      <td>Cody Bellinger</td>\n",
              "      <td>3</td>\n",
              "      <td>OF</td>\n",
              "      <td>3</td>\n",
              "      <td>Los Angeles Dodgers</td>\n",
              "    </tr>\n",
              "    <tr>\n",
              "      <th>1</th>\n",
              "      <td>2</td>\n",
              "      <td>Mookie Betts</td>\n",
              "      <td>3</td>\n",
              "      <td>OF</td>\n",
              "      <td>3</td>\n",
              "      <td>Los Angeles Dodgers</td>\n",
              "    </tr>\n",
              "    <tr>\n",
              "      <th>2</th>\n",
              "      <td>3</td>\n",
              "      <td>Nolan Arenado</td>\n",
              "      <td>2</td>\n",
              "      <td>3B</td>\n",
              "      <td>2</td>\n",
              "      <td>Colorado Rockies</td>\n",
              "    </tr>\n",
              "    <tr>\n",
              "      <th>3</th>\n",
              "      <td>4</td>\n",
              "      <td>Trevor Story</td>\n",
              "      <td>2</td>\n",
              "      <td>SS</td>\n",
              "      <td>2</td>\n",
              "      <td>Colorado Rockies</td>\n",
              "    </tr>\n",
              "    <tr>\n",
              "      <th>4</th>\n",
              "      <td>5</td>\n",
              "      <td>Fernando Tatis Jr.</td>\n",
              "      <td>4</td>\n",
              "      <td>SS</td>\n",
              "      <td>4</td>\n",
              "      <td>San Diego Padres</td>\n",
              "    </tr>\n",
              "    <tr>\n",
              "      <th>5</th>\n",
              "      <td>8</td>\n",
              "      <td>Manny Machado</td>\n",
              "      <td>4</td>\n",
              "      <td>3B</td>\n",
              "      <td>4</td>\n",
              "      <td>San Diego Padres</td>\n",
              "    </tr>\n",
              "    <tr>\n",
              "      <th>6</th>\n",
              "      <td>6</td>\n",
              "      <td>Buster Posey</td>\n",
              "      <td>5</td>\n",
              "      <td>C</td>\n",
              "      <td>5</td>\n",
              "      <td>San Francisco Giants</td>\n",
              "    </tr>\n",
              "    <tr>\n",
              "      <th>7</th>\n",
              "      <td>7</td>\n",
              "      <td>Starling Marte</td>\n",
              "      <td>1</td>\n",
              "      <td>OF</td>\n",
              "      <td>1</td>\n",
              "      <td>Arizona Diamondbacks</td>\n",
              "    </tr>\n",
              "  </tbody>\n",
              "</table>\n",
              "</div>"
            ],
            "text/plain": [
              "   Id_player         Name_player  TeamId Position  Id_team  \\\n",
              "0          1      Cody Bellinger       3       OF        3   \n",
              "1          2        Mookie Betts       3       OF        3   \n",
              "2          3       Nolan Arenado       2       3B        2   \n",
              "3          4        Trevor Story       2       SS        2   \n",
              "4          5  Fernando Tatis Jr.       4       SS        4   \n",
              "5          8       Manny Machado       4       3B        4   \n",
              "6          6        Buster Posey       5        C        5   \n",
              "7          7      Starling Marte       1       OF        1   \n",
              "\n",
              "              Name_team  \n",
              "0   Los Angeles Dodgers  \n",
              "1   Los Angeles Dodgers  \n",
              "2      Colorado Rockies  \n",
              "3      Colorado Rockies  \n",
              "4      San Diego Padres  \n",
              "5      San Diego Padres  \n",
              "6  San Francisco Giants  \n",
              "7  Arizona Diamondbacks  "
            ]
          },
          "execution_count": 38,
          "metadata": {},
          "output_type": "execute_result"
        }
      ],
      "source": [
        "player_team = pd.merge(players, teams, left_on=\"TeamId\", right_on=\"Id\", how=\"inner\", suffixes=[\"_player\", \"_team\"])\n",
        "player_team"
      ]
    },
    {
      "cell_type": "markdown",
      "metadata": {
        "id": "S6lvpcYysSKk"
      },
      "source": [
        "And then you can rename column later."
      ]
    },
    {
      "cell_type": "code",
      "execution_count": 39,
      "metadata": {
        "colab": {
          "base_uri": "https://localhost:8080/",
          "height": 300
        },
        "id": "3MFOy0JMsPDB",
        "outputId": "d4805e3f-826e-4066-c6a9-9a985c5eefb6"
      },
      "outputs": [
        {
          "data": {
            "text/html": [
              "<div>\n",
              "<style scoped>\n",
              "    .dataframe tbody tr th:only-of-type {\n",
              "        vertical-align: middle;\n",
              "    }\n",
              "\n",
              "    .dataframe tbody tr th {\n",
              "        vertical-align: top;\n",
              "    }\n",
              "\n",
              "    .dataframe thead th {\n",
              "        text-align: right;\n",
              "    }\n",
              "</style>\n",
              "<table border=\"1\" class=\"dataframe\">\n",
              "  <thead>\n",
              "    <tr style=\"text-align: right;\">\n",
              "      <th></th>\n",
              "      <th>PlayerId</th>\n",
              "      <th>PlayerName</th>\n",
              "      <th>TeamId</th>\n",
              "      <th>Position</th>\n",
              "      <th>Id_team</th>\n",
              "      <th>TeamName</th>\n",
              "    </tr>\n",
              "  </thead>\n",
              "  <tbody>\n",
              "    <tr>\n",
              "      <th>0</th>\n",
              "      <td>1</td>\n",
              "      <td>Cody Bellinger</td>\n",
              "      <td>3</td>\n",
              "      <td>OF</td>\n",
              "      <td>3</td>\n",
              "      <td>Los Angeles Dodgers</td>\n",
              "    </tr>\n",
              "    <tr>\n",
              "      <th>1</th>\n",
              "      <td>2</td>\n",
              "      <td>Mookie Betts</td>\n",
              "      <td>3</td>\n",
              "      <td>OF</td>\n",
              "      <td>3</td>\n",
              "      <td>Los Angeles Dodgers</td>\n",
              "    </tr>\n",
              "    <tr>\n",
              "      <th>2</th>\n",
              "      <td>3</td>\n",
              "      <td>Nolan Arenado</td>\n",
              "      <td>2</td>\n",
              "      <td>3B</td>\n",
              "      <td>2</td>\n",
              "      <td>Colorado Rockies</td>\n",
              "    </tr>\n",
              "    <tr>\n",
              "      <th>3</th>\n",
              "      <td>4</td>\n",
              "      <td>Trevor Story</td>\n",
              "      <td>2</td>\n",
              "      <td>SS</td>\n",
              "      <td>2</td>\n",
              "      <td>Colorado Rockies</td>\n",
              "    </tr>\n",
              "    <tr>\n",
              "      <th>4</th>\n",
              "      <td>5</td>\n",
              "      <td>Fernando Tatis Jr.</td>\n",
              "      <td>4</td>\n",
              "      <td>SS</td>\n",
              "      <td>4</td>\n",
              "      <td>San Diego Padres</td>\n",
              "    </tr>\n",
              "    <tr>\n",
              "      <th>5</th>\n",
              "      <td>8</td>\n",
              "      <td>Manny Machado</td>\n",
              "      <td>4</td>\n",
              "      <td>3B</td>\n",
              "      <td>4</td>\n",
              "      <td>San Diego Padres</td>\n",
              "    </tr>\n",
              "    <tr>\n",
              "      <th>6</th>\n",
              "      <td>6</td>\n",
              "      <td>Buster Posey</td>\n",
              "      <td>5</td>\n",
              "      <td>C</td>\n",
              "      <td>5</td>\n",
              "      <td>San Francisco Giants</td>\n",
              "    </tr>\n",
              "    <tr>\n",
              "      <th>7</th>\n",
              "      <td>7</td>\n",
              "      <td>Starling Marte</td>\n",
              "      <td>1</td>\n",
              "      <td>OF</td>\n",
              "      <td>1</td>\n",
              "      <td>Arizona Diamondbacks</td>\n",
              "    </tr>\n",
              "  </tbody>\n",
              "</table>\n",
              "</div>"
            ],
            "text/plain": [
              "   PlayerId          PlayerName  TeamId Position  Id_team  \\\n",
              "0         1      Cody Bellinger       3       OF        3   \n",
              "1         2        Mookie Betts       3       OF        3   \n",
              "2         3       Nolan Arenado       2       3B        2   \n",
              "3         4        Trevor Story       2       SS        2   \n",
              "4         5  Fernando Tatis Jr.       4       SS        4   \n",
              "5         8       Manny Machado       4       3B        4   \n",
              "6         6        Buster Posey       5        C        5   \n",
              "7         7      Starling Marte       1       OF        1   \n",
              "\n",
              "               TeamName  \n",
              "0   Los Angeles Dodgers  \n",
              "1   Los Angeles Dodgers  \n",
              "2      Colorado Rockies  \n",
              "3      Colorado Rockies  \n",
              "4      San Diego Padres  \n",
              "5      San Diego Padres  \n",
              "6  San Francisco Giants  \n",
              "7  Arizona Diamondbacks  "
            ]
          },
          "execution_count": 39,
          "metadata": {},
          "output_type": "execute_result"
        }
      ],
      "source": [
        "player_team = player_team.rename(\n",
        "  columns={\n",
        "    \"Id_player\": \"PlayerId\"\n",
        "    ,\"Name_player\": \"PlayerName\"\n",
        "    ,\"Name_team\": \"TeamName\"\n",
        "  }\n",
        ")\n",
        "player_team"
      ]
    },
    {
      "cell_type": "markdown",
      "metadata": {
        "id": "aOX32ZC-sZ1o"
      },
      "source": [
        "## LEFT / RIGHT OUTER JOIN\n",
        "\n",
        "\n",
        "```\n",
        "SELECT\n",
        "  p.Id\n",
        "  ,p.Name\n",
        "  ,h.Homerun\n",
        "FROM players p\n",
        "LEFT JOIN homeruns h\n",
        "  ON p.Id = h.PlayerId\n",
        "```\n",
        "\n"
      ]
    },
    {
      "cell_type": "code",
      "execution_count": 40,
      "metadata": {
        "colab": {
          "base_uri": "https://localhost:8080/",
          "height": 300
        },
        "id": "JOR2HttxsXWe",
        "outputId": "f666c97c-6ca4-40ab-fe61-2b6cf7ed7afa"
      },
      "outputs": [
        {
          "data": {
            "text/html": [
              "<div>\n",
              "<style scoped>\n",
              "    .dataframe tbody tr th:only-of-type {\n",
              "        vertical-align: middle;\n",
              "    }\n",
              "\n",
              "    .dataframe tbody tr th {\n",
              "        vertical-align: top;\n",
              "    }\n",
              "\n",
              "    .dataframe thead th {\n",
              "        text-align: right;\n",
              "    }\n",
              "</style>\n",
              "<table border=\"1\" class=\"dataframe\">\n",
              "  <thead>\n",
              "    <tr style=\"text-align: right;\">\n",
              "      <th></th>\n",
              "      <th>Id</th>\n",
              "      <th>Name</th>\n",
              "      <th>TeamId</th>\n",
              "      <th>Position</th>\n",
              "      <th>PlayerId</th>\n",
              "      <th>Homerun</th>\n",
              "    </tr>\n",
              "  </thead>\n",
              "  <tbody>\n",
              "    <tr>\n",
              "      <th>0</th>\n",
              "      <td>1</td>\n",
              "      <td>Cody Bellinger</td>\n",
              "      <td>3</td>\n",
              "      <td>OF</td>\n",
              "      <td>NaN</td>\n",
              "      <td>NaN</td>\n",
              "    </tr>\n",
              "    <tr>\n",
              "      <th>1</th>\n",
              "      <td>2</td>\n",
              "      <td>Mookie Betts</td>\n",
              "      <td>3</td>\n",
              "      <td>OF</td>\n",
              "      <td>2.0</td>\n",
              "      <td>16.0</td>\n",
              "    </tr>\n",
              "    <tr>\n",
              "      <th>2</th>\n",
              "      <td>3</td>\n",
              "      <td>Nolan Arenado</td>\n",
              "      <td>2</td>\n",
              "      <td>3B</td>\n",
              "      <td>NaN</td>\n",
              "      <td>NaN</td>\n",
              "    </tr>\n",
              "    <tr>\n",
              "      <th>3</th>\n",
              "      <td>4</td>\n",
              "      <td>Trevor Story</td>\n",
              "      <td>2</td>\n",
              "      <td>SS</td>\n",
              "      <td>NaN</td>\n",
              "      <td>NaN</td>\n",
              "    </tr>\n",
              "    <tr>\n",
              "      <th>4</th>\n",
              "      <td>5</td>\n",
              "      <td>Fernando Tatis Jr.</td>\n",
              "      <td>4</td>\n",
              "      <td>SS</td>\n",
              "      <td>5.0</td>\n",
              "      <td>15.0</td>\n",
              "    </tr>\n",
              "    <tr>\n",
              "      <th>5</th>\n",
              "      <td>6</td>\n",
              "      <td>Buster Posey</td>\n",
              "      <td>5</td>\n",
              "      <td>C</td>\n",
              "      <td>NaN</td>\n",
              "      <td>NaN</td>\n",
              "    </tr>\n",
              "    <tr>\n",
              "      <th>6</th>\n",
              "      <td>7</td>\n",
              "      <td>Starling Marte</td>\n",
              "      <td>1</td>\n",
              "      <td>OF</td>\n",
              "      <td>NaN</td>\n",
              "      <td>NaN</td>\n",
              "    </tr>\n",
              "    <tr>\n",
              "      <th>7</th>\n",
              "      <td>8</td>\n",
              "      <td>Manny Machado</td>\n",
              "      <td>4</td>\n",
              "      <td>3B</td>\n",
              "      <td>8.0</td>\n",
              "      <td>16.0</td>\n",
              "    </tr>\n",
              "  </tbody>\n",
              "</table>\n",
              "</div>"
            ],
            "text/plain": [
              "   Id                Name  TeamId Position  PlayerId  Homerun\n",
              "0   1      Cody Bellinger       3       OF       NaN      NaN\n",
              "1   2        Mookie Betts       3       OF       2.0     16.0\n",
              "2   3       Nolan Arenado       2       3B       NaN      NaN\n",
              "3   4        Trevor Story       2       SS       NaN      NaN\n",
              "4   5  Fernando Tatis Jr.       4       SS       5.0     15.0\n",
              "5   6        Buster Posey       5        C       NaN      NaN\n",
              "6   7      Starling Marte       1       OF       NaN      NaN\n",
              "7   8       Manny Machado       4       3B       8.0     16.0"
            ]
          },
          "execution_count": 40,
          "metadata": {},
          "output_type": "execute_result"
        }
      ],
      "source": [
        "player_homerun = pd.merge(players, homeruns, left_on=\"Id\", right_on=\"PlayerId\", how=\"left\")\n",
        "player_homerun"
      ]
    },
    {
      "cell_type": "markdown",
      "metadata": {
        "id": "mtArXDQfsny9"
      },
      "source": [
        "## FULL OUTER JOIN\n",
        "\n",
        "\n",
        "```\n",
        "SELECT\n",
        "  p.Id\n",
        "  ,p.Name\n",
        "  ,h.Homerun\n",
        "FROM players p\n",
        "FULL JOIN homeruns h\n",
        "  ON p.Id = h.PlayerId\n",
        "```\n",
        "\n"
      ]
    },
    {
      "cell_type": "code",
      "execution_count": 41,
      "metadata": {
        "colab": {
          "base_uri": "https://localhost:8080/",
          "height": 300
        },
        "id": "vMMNKCvpskwe",
        "outputId": "8a58891f-cb28-4204-dfcf-77744246fdba"
      },
      "outputs": [
        {
          "data": {
            "text/html": [
              "<div>\n",
              "<style scoped>\n",
              "    .dataframe tbody tr th:only-of-type {\n",
              "        vertical-align: middle;\n",
              "    }\n",
              "\n",
              "    .dataframe tbody tr th {\n",
              "        vertical-align: top;\n",
              "    }\n",
              "\n",
              "    .dataframe thead th {\n",
              "        text-align: right;\n",
              "    }\n",
              "</style>\n",
              "<table border=\"1\" class=\"dataframe\">\n",
              "  <thead>\n",
              "    <tr style=\"text-align: right;\">\n",
              "      <th></th>\n",
              "      <th>Id</th>\n",
              "      <th>Name</th>\n",
              "      <th>TeamId</th>\n",
              "      <th>Position</th>\n",
              "      <th>PlayerId</th>\n",
              "      <th>Homerun</th>\n",
              "    </tr>\n",
              "  </thead>\n",
              "  <tbody>\n",
              "    <tr>\n",
              "      <th>0</th>\n",
              "      <td>1</td>\n",
              "      <td>Cody Bellinger</td>\n",
              "      <td>3</td>\n",
              "      <td>OF</td>\n",
              "      <td>NaN</td>\n",
              "      <td>NaN</td>\n",
              "    </tr>\n",
              "    <tr>\n",
              "      <th>1</th>\n",
              "      <td>2</td>\n",
              "      <td>Mookie Betts</td>\n",
              "      <td>3</td>\n",
              "      <td>OF</td>\n",
              "      <td>2.0</td>\n",
              "      <td>16.0</td>\n",
              "    </tr>\n",
              "    <tr>\n",
              "      <th>2</th>\n",
              "      <td>3</td>\n",
              "      <td>Nolan Arenado</td>\n",
              "      <td>2</td>\n",
              "      <td>3B</td>\n",
              "      <td>NaN</td>\n",
              "      <td>NaN</td>\n",
              "    </tr>\n",
              "    <tr>\n",
              "      <th>3</th>\n",
              "      <td>4</td>\n",
              "      <td>Trevor Story</td>\n",
              "      <td>2</td>\n",
              "      <td>SS</td>\n",
              "      <td>NaN</td>\n",
              "      <td>NaN</td>\n",
              "    </tr>\n",
              "    <tr>\n",
              "      <th>4</th>\n",
              "      <td>5</td>\n",
              "      <td>Fernando Tatis Jr.</td>\n",
              "      <td>4</td>\n",
              "      <td>SS</td>\n",
              "      <td>5.0</td>\n",
              "      <td>15.0</td>\n",
              "    </tr>\n",
              "    <tr>\n",
              "      <th>5</th>\n",
              "      <td>6</td>\n",
              "      <td>Buster Posey</td>\n",
              "      <td>5</td>\n",
              "      <td>C</td>\n",
              "      <td>NaN</td>\n",
              "      <td>NaN</td>\n",
              "    </tr>\n",
              "    <tr>\n",
              "      <th>6</th>\n",
              "      <td>7</td>\n",
              "      <td>Starling Marte</td>\n",
              "      <td>1</td>\n",
              "      <td>OF</td>\n",
              "      <td>NaN</td>\n",
              "      <td>NaN</td>\n",
              "    </tr>\n",
              "    <tr>\n",
              "      <th>7</th>\n",
              "      <td>8</td>\n",
              "      <td>Manny Machado</td>\n",
              "      <td>4</td>\n",
              "      <td>3B</td>\n",
              "      <td>8.0</td>\n",
              "      <td>16.0</td>\n",
              "    </tr>\n",
              "  </tbody>\n",
              "</table>\n",
              "</div>"
            ],
            "text/plain": [
              "   Id                Name  TeamId Position  PlayerId  Homerun\n",
              "0   1      Cody Bellinger       3       OF       NaN      NaN\n",
              "1   2        Mookie Betts       3       OF       2.0     16.0\n",
              "2   3       Nolan Arenado       2       3B       NaN      NaN\n",
              "3   4        Trevor Story       2       SS       NaN      NaN\n",
              "4   5  Fernando Tatis Jr.       4       SS       5.0     15.0\n",
              "5   6        Buster Posey       5        C       NaN      NaN\n",
              "6   7      Starling Marte       1       OF       NaN      NaN\n",
              "7   8       Manny Machado       4       3B       8.0     16.0"
            ]
          },
          "execution_count": 41,
          "metadata": {},
          "output_type": "execute_result"
        }
      ],
      "source": [
        "player_homerun = pd.merge(players, homeruns, left_on=\"Id\", right_on=\"PlayerId\", how=\"outer\")\n",
        "player_homerun"
      ]
    },
    {
      "cell_type": "code",
      "execution_count": null,
      "metadata": {
        "id": "iM8TqjpgsvRf"
      },
      "outputs": [],
      "source": []
    }
  ],
  "metadata": {
    "colab": {
      "provenance": []
    },
    "kernelspec": {
      "display_name": "Python 3",
      "name": "python3"
    },
    "language_info": {
      "codemirror_mode": {
        "name": "ipython",
        "version": 3
      },
      "file_extension": ".py",
      "mimetype": "text/x-python",
      "name": "python",
      "nbconvert_exporter": "python",
      "pygments_lexer": "ipython3",
      "version": "3.8.0"
    }
  },
  "nbformat": 4,
  "nbformat_minor": 0
}
